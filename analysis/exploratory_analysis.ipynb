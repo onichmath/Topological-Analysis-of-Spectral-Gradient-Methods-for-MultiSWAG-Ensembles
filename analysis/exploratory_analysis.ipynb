{
 "cells": [
  {
   "cell_type": "markdown",
   "id": "60dc6023-0dd2-4374-b3bc-a3a318ae13b5",
   "metadata": {},
   "source": [
    "# Exploratory Analysis"
   ]
  },
  {
   "cell_type": "code",
   "execution_count": 9,
   "id": "5e568b30-6520-4239-8f87-aaa7b712000d",
   "metadata": {},
   "outputs": [],
   "source": [
    "import torch \n",
    "from torch import nn\n",
    "import matplotlib.pyplot as plt \n",
    "import numpy as np \n",
    "import os\n",
    "from pathlib import Path\n",
    "import inspect\n",
    "import sys\n",
    "import pandas as pd"
   ]
  },
  {
   "cell_type": "code",
   "execution_count": 2,
   "id": "2a5e174f-be2f-4154-a822-ea53aa7719f0",
   "metadata": {},
   "outputs": [],
   "source": [
    "class MLP(nn.Module):\n",
    "    def __init__(self, *args) -> None:\n",
    "        super().__init__()\n",
    "\n",
    "        input_dim = 28 * 28\n",
    "        hidden_dim = 256\n",
    "        output_dim = 10\n",
    "        num_hidden_layers = 2\n",
    "\n",
    "        self.input_dim = input_dim\n",
    "        self.hidden_dim = hidden_dim\n",
    "        self.output_dim = output_dim\n",
    "\n",
    "        layers = []\n",
    "        dim = input_dim\n",
    "\n",
    "        for _ in range(num_hidden_layers):\n",
    "            layers.append(nn.Linear(dim, self.hidden_dim))\n",
    "            layers.append(nn.ReLU())\n",
    "            dim = self.hidden_dim\n",
    "\n",
    "        layers.append(nn.Linear(self.hidden_dim, self.output_dim))\n",
    "\n",
    "        self.net = nn.Sequential(*layers)\n",
    "\n",
    "    def forward(self, x):\n",
    "        return self.net(x)"
   ]
  },
  {
   "cell_type": "code",
   "execution_count": 3,
   "id": "409f8753-d9f8-410d-b77a-c4e1ad85510a",
   "metadata": {},
   "outputs": [],
   "source": [
    "RESULTS_DIR = \"../results/\"\n",
    "OPTIMIZERS = [\"adamw\", \"adam\", \"muon\", \"muon10p\", \"10p\", \"spectralnorm\", \"muonspectralnorm\"]"
   ]
  },
  {
   "cell_type": "code",
   "execution_count": 4,
   "id": "ed3b0940-b682-4c77-93d9-f5378630aab4",
   "metadata": {},
   "outputs": [
    {
     "name": "stdout",
     "output_type": "stream",
     "text": [
      "['adamw_projections.pt', 'gradients', 'pretrain_weights', 'loss_landscape', 'trajectory_summaries', 'evaluation_results', 'penultimate_activations', 'swag_moments']\n"
     ]
    }
   ],
   "source": [
    "example_results_dir = os.listdir(RESULTS_DIR + OPTIMIZERS[0])\n",
    "print(example_results_dir) "
   ]
  },
  {
   "cell_type": "markdown",
   "id": "c1057869-60eb-4c6b-bf03-5fd1c42e7cb6",
   "metadata": {},
   "source": [
    "## Model"
   ]
  },
  {
   "cell_type": "code",
   "execution_count": 5,
   "id": "230a5e20-3f6e-43d1-aa67-99da3cce1c10",
   "metadata": {},
   "outputs": [
    {
     "name": "stdout",
     "output_type": "stream",
     "text": [
      "net.0.weight torch.Size([256, 784])\n",
      "net.0.bias torch.Size([256])\n",
      "net.2.weight torch.Size([256, 256])\n",
      "net.2.bias torch.Size([256])\n",
      "net.4.weight torch.Size([10, 256])\n",
      "net.4.bias torch.Size([10])\n"
     ]
    }
   ],
   "source": [
    "weights = torch.load(RESULTS_DIR + OPTIMIZERS[0] + \"/pretrain_weights/particle0_epoch30_weights.pt\", weights_only=False)\n",
    "model = MLP()\n",
    "model.load_state_dict(weights)\n",
    "for name, param in model.named_parameters():\n",
    "    print(name, param.shape)"
   ]
  },
  {
   "cell_type": "markdown",
   "id": "82264c94-2e43-493f-bdee-60d6abcd3f9e",
   "metadata": {},
   "source": [
    "## Trajectory Summaries"
   ]
  },
  {
   "cell_type": "code",
   "execution_count": 6,
   "id": "a1e8133b-b72b-43ef-b7e5-277a90c2b09f",
   "metadata": {},
   "outputs": [
    {
     "name": "stdout",
     "output_type": "stream",
     "text": [
      "['trajectory_summaries.pt']\n"
     ]
    }
   ],
   "source": [
    "print(os.listdir(RESULTS_DIR + OPTIMIZERS[0] + \"/trajectory_summaries\"))"
   ]
  },
  {
   "cell_type": "code",
   "execution_count": 11,
   "id": "fe39eb1b-7675-4a44-af55-87ea72bed8f8",
   "metadata": {},
   "outputs": [
    {
     "data": {
      "text/html": [
       "<div>\n",
       "<style scoped>\n",
       "    .dataframe tbody tr th:only-of-type {\n",
       "        vertical-align: middle;\n",
       "    }\n",
       "\n",
       "    .dataframe tbody tr th {\n",
       "        vertical-align: top;\n",
       "    }\n",
       "\n",
       "    .dataframe thead th {\n",
       "        text-align: right;\n",
       "    }\n",
       "</style>\n",
       "<table border=\"1\" class=\"dataframe\">\n",
       "  <thead>\n",
       "    <tr style=\"text-align: right;\">\n",
       "      <th></th>\n",
       "      <th>adamw</th>\n",
       "      <th>adam</th>\n",
       "      <th>muon</th>\n",
       "      <th>muon10p</th>\n",
       "      <th>10p</th>\n",
       "      <th>spectralnorm</th>\n",
       "      <th>muonspectralnorm</th>\n",
       "    </tr>\n",
       "  </thead>\n",
       "  <tbody>\n",
       "    <tr>\n",
       "      <th>total_path_length</th>\n",
       "      <td>772.058472</td>\n",
       "      <td>772.058472</td>\n",
       "      <td>772.058472</td>\n",
       "      <td>772.058472</td>\n",
       "      <td>772.058472</td>\n",
       "      <td>772.058472</td>\n",
       "      <td>772.058472</td>\n",
       "    </tr>\n",
       "    <tr>\n",
       "      <th>mean_step_size</th>\n",
       "      <td>25.735283</td>\n",
       "      <td>25.735283</td>\n",
       "      <td>25.735283</td>\n",
       "      <td>25.735283</td>\n",
       "      <td>25.735283</td>\n",
       "      <td>25.735283</td>\n",
       "      <td>25.735283</td>\n",
       "    </tr>\n",
       "    <tr>\n",
       "      <th>step_size_variance</th>\n",
       "      <td>19.530861</td>\n",
       "      <td>19.530861</td>\n",
       "      <td>19.530861</td>\n",
       "      <td>19.530861</td>\n",
       "      <td>19.530861</td>\n",
       "      <td>19.530861</td>\n",
       "      <td>19.530861</td>\n",
       "    </tr>\n",
       "    <tr>\n",
       "      <th>trajectory_endpoints_distance</th>\n",
       "      <td>190.454895</td>\n",
       "      <td>190.454895</td>\n",
       "      <td>190.454895</td>\n",
       "      <td>190.454895</td>\n",
       "      <td>190.454895</td>\n",
       "      <td>190.454895</td>\n",
       "      <td>190.454895</td>\n",
       "    </tr>\n",
       "  </tbody>\n",
       "</table>\n",
       "</div>"
      ],
      "text/plain": [
       "                                    adamw        adam        muon     muon10p  \\\n",
       "total_path_length              772.058472  772.058472  772.058472  772.058472   \n",
       "mean_step_size                  25.735283   25.735283   25.735283   25.735283   \n",
       "step_size_variance              19.530861   19.530861   19.530861   19.530861   \n",
       "trajectory_endpoints_distance  190.454895  190.454895  190.454895  190.454895   \n",
       "\n",
       "                                      10p  spectralnorm  muonspectralnorm  \n",
       "total_path_length              772.058472    772.058472        772.058472  \n",
       "mean_step_size                  25.735283     25.735283         25.735283  \n",
       "step_size_variance              19.530861     19.530861         19.530861  \n",
       "trajectory_endpoints_distance  190.454895    190.454895        190.454895  "
      ]
     },
     "metadata": {},
     "output_type": "display_data"
    }
   ],
   "source": [
    "def print_traj_sums():\n",
    "    traj_sums = {}\n",
    "    for opt in OPTIMIZERS: \n",
    "        traj_sum = torch.load(RESULTS_DIR + OPTIMIZERS[0] + \"/trajectory_summaries/trajectory_summaries.pt\", weights_only=False)['particle_0_pretrain']\n",
    "        traj_sums[opt] = traj_sum\n",
    "    traj_sums = pd.DataFrame(traj_sums)\n",
    "    display(traj_sums)\n",
    "print_traj_sums()"
   ]
  },
  {
   "cell_type": "markdown",
   "id": "325549ff-3ebd-4ffc-b82b-59e2c1da4656",
   "metadata": {},
   "source": [
    "## Epoch Metrics"
   ]
  },
  {
   "cell_type": "code",
   "execution_count": 12,
   "id": "f89964c3-bc6b-425d-97a3-18bc79e58150",
   "metadata": {},
   "outputs": [
    {
     "name": "stdout",
     "output_type": "stream",
     "text": [
      "['swag_epoch20_loss.pt', 'pretrain_epoch20_metrics.pt', 'swag_epoch15_loss.pt', 'swag_epoch15_metrics.pt', 'swag_epoch2_metrics.pt', 'pretrain_epoch5_loss.pt', 'pretrain_epoch23_loss.pt', 'pretrain_epoch18_metrics.pt', 'pretrain_epoch18_loss.pt', 'pretrain_epoch8_loss.pt', 'swag_epoch11_loss.pt', 'pretrain_epoch13_loss.pt', 'swag_epoch5_loss.pt', 'pretrain_epoch22_loss.pt', 'pretrain_epoch13_metrics.pt', 'swag_epoch17_loss.pt', 'pretrain_epoch19_loss.pt', 'pretrain_epoch6_loss.pt', 'swag_epoch9_metrics.pt', 'swag_epoch9_loss.pt', 'pretrain_epoch12_metrics.pt', 'swag_epoch16_metrics.pt', 'pretrain_epoch16_loss.pt', 'pretrain_epoch15_loss.pt', 'pretrain_epoch30_metrics.pt', 'swag_epoch8_loss.pt', 'pretrain_epoch29_metrics.pt', 'swag_epoch12_loss.pt', 'swag_epoch18_metrics.pt', 'swag_epoch19_metrics.pt', 'swag_epoch2_loss.pt', 'swag_epoch6_loss.pt', 'pretrain_epoch7_loss.pt', 'pretrain_epoch15_metrics.pt', 'pretrain_epoch22_metrics.pt', 'pretrain_epoch3_loss.pt', 'pretrain_epoch14_loss.pt', 'swag_epoch4_loss.pt', 'pretrain_epoch16_metrics.pt', 'pretrain_epoch6_metrics.pt', 'pretrain_epoch14_metrics.pt', 'pretrain_epoch1_loss.pt', 'pretrain_epoch28_loss.pt', 'swag_epoch10_loss.pt', 'pretrain_epoch21_loss.pt', 'pretrain_epoch29_loss.pt', 'pretrain_epoch27_metrics.pt', 'swag_epoch12_metrics.pt', 'swag_epoch11_metrics.pt', 'pretrain_epoch2_metrics.pt', 'pretrain_epoch9_metrics.pt', 'pretrain_epoch28_metrics.pt', 'pretrain_epoch8_metrics.pt', 'pretrain_epoch19_metrics.pt', 'pretrain_epoch2_loss.pt', 'swag_epoch10_metrics.pt', 'pretrain_epoch12_loss.pt', 'pretrain_epoch5_metrics.pt', 'pretrain_epoch24_loss.pt', 'swag_epoch20_metrics.pt', 'pretrain_epoch9_loss.pt', 'swag_epoch19_loss.pt', 'pretrain_epoch27_loss.pt', 'swag_epoch8_metrics.pt', 'pretrain_epoch25_loss.pt', 'pretrain_epoch10_metrics.pt', 'pretrain_epoch4_metrics.pt', 'swag_epoch13_loss.pt', 'pretrain_epoch26_metrics.pt', 'swag_epoch18_loss.pt', 'swag_epoch6_metrics.pt', 'pretrain_epoch25_metrics.pt', 'swag_epoch4_metrics.pt', 'swag_epoch7_metrics.pt', 'swag_epoch1_metrics.pt', 'pretrain_epoch7_metrics.pt', 'swag_epoch14_metrics.pt', 'pretrain_epoch11_loss.pt', 'pretrain_epoch23_metrics.pt', 'pretrain_epoch11_metrics.pt', 'pretrain_epoch17_metrics.pt', 'pretrain_epoch30_loss.pt', 'swag_epoch17_metrics.pt', 'swag_epoch5_metrics.pt', 'swag_epoch13_metrics.pt', 'swag_epoch1_loss.pt', 'pretrain_epoch1_metrics.pt', 'swag_epoch14_loss.pt', 'swag_epoch16_loss.pt', 'swag_epoch3_metrics.pt', 'pretrain_epoch4_loss.pt', 'pretrain_epoch10_loss.pt', 'pretrain_epoch21_metrics.pt', 'swag_epoch7_loss.pt', 'pretrain_epoch3_metrics.pt', 'pretrain_epoch24_metrics.pt', 'pretrain_epoch26_loss.pt', 'pretrain_epoch17_loss.pt', 'swag_epoch3_loss.pt', 'pretrain_epoch20_loss.pt']\n"
     ]
    }
   ],
   "source": [
    "print(os.listdir(RESULTS_DIR + OPTIMIZERS[0] + \"/evaluation_results\"))"
   ]
  },
  {
   "cell_type": "code",
   "execution_count": 15,
   "id": "2efedb65-64de-4170-b366-2567ea65bcb2",
   "metadata": {},
   "outputs": [
    {
     "data": {
      "text/html": [
       "<div>\n",
       "<style scoped>\n",
       "    .dataframe tbody tr th:only-of-type {\n",
       "        vertical-align: middle;\n",
       "    }\n",
       "\n",
       "    .dataframe tbody tr th {\n",
       "        vertical-align: top;\n",
       "    }\n",
       "\n",
       "    .dataframe thead th {\n",
       "        text-align: right;\n",
       "    }\n",
       "</style>\n",
       "<table border=\"1\" class=\"dataframe\">\n",
       "  <thead>\n",
       "    <tr style=\"text-align: right;\">\n",
       "      <th></th>\n",
       "      <th>adamw</th>\n",
       "      <th>adam</th>\n",
       "      <th>muon</th>\n",
       "      <th>muon10p</th>\n",
       "      <th>10p</th>\n",
       "      <th>spectralnorm</th>\n",
       "      <th>muonspectralnorm</th>\n",
       "    </tr>\n",
       "  </thead>\n",
       "  <tbody>\n",
       "    <tr>\n",
       "      <th>epoch</th>\n",
       "      <td>1</td>\n",
       "      <td>1</td>\n",
       "      <td>1</td>\n",
       "      <td>1</td>\n",
       "      <td>1</td>\n",
       "      <td>1</td>\n",
       "      <td>1</td>\n",
       "    </tr>\n",
       "    <tr>\n",
       "      <th>phase</th>\n",
       "      <td>pretrain</td>\n",
       "      <td>pretrain</td>\n",
       "      <td>pretrain</td>\n",
       "      <td>pretrain</td>\n",
       "      <td>pretrain</td>\n",
       "      <td>pretrain</td>\n",
       "      <td>pretrain</td>\n",
       "    </tr>\n",
       "    <tr>\n",
       "      <th>train_loss</th>\n",
       "      <td>0.293124</td>\n",
       "      <td>0.287504</td>\n",
       "      <td>0.307881</td>\n",
       "      <td>1.346689</td>\n",
       "      <td>0.293124</td>\n",
       "      <td>0.293124</td>\n",
       "      <td>1.926167</td>\n",
       "    </tr>\n",
       "    <tr>\n",
       "      <th>val_acc</th>\n",
       "      <td>0.9407</td>\n",
       "      <td>0.942</td>\n",
       "      <td>0.9679</td>\n",
       "      <td>0.8502</td>\n",
       "      <td>0.9407</td>\n",
       "      <td>0.9407</td>\n",
       "      <td>0.7022</td>\n",
       "    </tr>\n",
       "    <tr>\n",
       "      <th>val_corrupt_acc</th>\n",
       "      <td>0.5632</td>\n",
       "      <td>0.5861</td>\n",
       "      <td>0.5946</td>\n",
       "      <td>0.4176</td>\n",
       "      <td>0.5632</td>\n",
       "      <td>0.5632</td>\n",
       "      <td>0.3338</td>\n",
       "    </tr>\n",
       "  </tbody>\n",
       "</table>\n",
       "</div>"
      ],
      "text/plain": [
       "                    adamw      adam      muon   muon10p       10p  \\\n",
       "epoch                   1         1         1         1         1   \n",
       "phase            pretrain  pretrain  pretrain  pretrain  pretrain   \n",
       "train_loss       0.293124  0.287504  0.307881  1.346689  0.293124   \n",
       "val_acc            0.9407     0.942    0.9679    0.8502    0.9407   \n",
       "val_corrupt_acc    0.5632    0.5861    0.5946    0.4176    0.5632   \n",
       "\n",
       "                spectralnorm muonspectralnorm  \n",
       "epoch                      1                1  \n",
       "phase               pretrain         pretrain  \n",
       "train_loss          0.293124         1.926167  \n",
       "val_acc               0.9407           0.7022  \n",
       "val_corrupt_acc       0.5632           0.3338  "
      ]
     },
     "metadata": {},
     "output_type": "display_data"
    },
    {
     "data": {
      "text/html": [
       "<div>\n",
       "<style scoped>\n",
       "    .dataframe tbody tr th:only-of-type {\n",
       "        vertical-align: middle;\n",
       "    }\n",
       "\n",
       "    .dataframe tbody tr th {\n",
       "        vertical-align: top;\n",
       "    }\n",
       "\n",
       "    .dataframe thead th {\n",
       "        text-align: right;\n",
       "    }\n",
       "</style>\n",
       "<table border=\"1\" class=\"dataframe\">\n",
       "  <thead>\n",
       "    <tr style=\"text-align: right;\">\n",
       "      <th></th>\n",
       "      <th>adamw</th>\n",
       "      <th>adam</th>\n",
       "      <th>muon</th>\n",
       "      <th>muon10p</th>\n",
       "      <th>10p</th>\n",
       "      <th>spectralnorm</th>\n",
       "      <th>muonspectralnorm</th>\n",
       "    </tr>\n",
       "  </thead>\n",
       "  <tbody>\n",
       "    <tr>\n",
       "      <th>epoch</th>\n",
       "      <td>20</td>\n",
       "      <td>20</td>\n",
       "      <td>20</td>\n",
       "      <td>20</td>\n",
       "      <td>20</td>\n",
       "      <td>20</td>\n",
       "      <td>20</td>\n",
       "    </tr>\n",
       "    <tr>\n",
       "      <th>phase</th>\n",
       "      <td>swag</td>\n",
       "      <td>swag</td>\n",
       "      <td>swag</td>\n",
       "      <td>swag</td>\n",
       "      <td>swag</td>\n",
       "      <td>swag</td>\n",
       "      <td>swag</td>\n",
       "    </tr>\n",
       "    <tr>\n",
       "      <th>train_loss</th>\n",
       "      <td>0.094351</td>\n",
       "      <td>0.067676</td>\n",
       "      <td>0.085602</td>\n",
       "      <td>0.000512</td>\n",
       "      <td>0.094351</td>\n",
       "      <td>0.094351</td>\n",
       "      <td>0.004131</td>\n",
       "    </tr>\n",
       "    <tr>\n",
       "      <th>val_acc</th>\n",
       "      <td>0.963</td>\n",
       "      <td>0.9604</td>\n",
       "      <td>0.9729</td>\n",
       "      <td>0.9786</td>\n",
       "      <td>0.963</td>\n",
       "      <td>0.963</td>\n",
       "      <td>0.9645</td>\n",
       "    </tr>\n",
       "    <tr>\n",
       "      <th>val_corrupt_acc</th>\n",
       "      <td>0.5928</td>\n",
       "      <td>0.5676</td>\n",
       "      <td>0.6426</td>\n",
       "      <td>0.6475</td>\n",
       "      <td>0.5928</td>\n",
       "      <td>0.5928</td>\n",
       "      <td>0.5129</td>\n",
       "    </tr>\n",
       "  </tbody>\n",
       "</table>\n",
       "</div>"
      ],
      "text/plain": [
       "                    adamw      adam      muon   muon10p       10p  \\\n",
       "epoch                  20        20        20        20        20   \n",
       "phase                swag      swag      swag      swag      swag   \n",
       "train_loss       0.094351  0.067676  0.085602  0.000512  0.094351   \n",
       "val_acc             0.963    0.9604    0.9729    0.9786     0.963   \n",
       "val_corrupt_acc    0.5928    0.5676    0.6426    0.6475    0.5928   \n",
       "\n",
       "                spectralnorm muonspectralnorm  \n",
       "epoch                     20               20  \n",
       "phase                   swag             swag  \n",
       "train_loss          0.094351         0.004131  \n",
       "val_acc                0.963           0.9645  \n",
       "val_corrupt_acc       0.5928           0.5129  "
      ]
     },
     "metadata": {},
     "output_type": "display_data"
    }
   ],
   "source": [
    "def print_pretrain_swag_metrics():\n",
    "    pretrain_metrics = {}\n",
    "    swag_metrics = {}\n",
    "    for opt in OPTIMIZERS:\n",
    "        pretrain_metrics[opt] = torch.load(RESULTS_DIR + opt + \"/evaluation_results/pretrain_epoch1_metrics.pt\", weights_only=False)\n",
    "        swag_metrics[opt] = torch.load(RESULTS_DIR + opt + \"/evaluation_results/swag_epoch20_metrics.pt\", weights_only=False)\n",
    "    pretrain_metrics = pd.DataFrame(pretrain_metrics)\n",
    "    swag_metrics = pd.DataFrame(swag_metrics)\n",
    "    display(pretrain_metrics)\n",
    "    display(swag_metrics)\n",
    "\n",
    "print_pretrain_swag_metrics()"
   ]
  },
  {
   "cell_type": "code",
   "execution_count": 122,
   "id": "156f6842",
   "metadata": {},
   "outputs": [
    {
     "name": "stdout",
     "output_type": "stream",
     "text": [
      "Plotting ['adamw', 'adam', 'muon', 'muon10p', '10p', 'spectralnorm', 'muonspectralnorm']...\n",
      "Plotting ['adam', 'adamw', 'muon']...\n",
      "Plotting ['muon', 'muon10p', 'muonspectralnorm']...\n"
     ]
    }
   ],
   "source": [
    "import numpy as np\n",
    "import matplotlib.pyplot as plt\n",
    "import seaborn as sns\n",
    "import pandas as pd\n",
    "import torch\n",
    "\n",
    "def plot_val_acc_and_val_corrupt_acc_seaborn(optimizers=[\"adam\", \"adamw\", \"muon\"], save_dir=\"../figures/acc/\"):\n",
    "    if not os.path.exists(save_dir):\n",
    "        os.makedirs(save_dir)\n",
    "    print(f\"Plotting {optimizers}...\")\n",
    "    records = []\n",
    "    for opt in optimizers:\n",
    "        #print(f\"Processing {opt}...\")\n",
    "        for epoch in range(1, 31):\n",
    "            path = f\"{RESULTS_DIR}{opt}/evaluation_results/pretrain_epoch{epoch}_metrics.pt\"\n",
    "            if not os.path.exists(path):\n",
    "                print(f\"File {path} does not exist\")\n",
    "                continue\n",
    "            temp = torch.load(path, weights_only=False)\n",
    "            records.append({\n",
    "                \"epoch\": epoch,\n",
    "                \"optimizer\": opt,\n",
    "                \"val_acc_log\": -np.log10(1 - temp[\"val_acc\"]),\n",
    "                \"val_corrupt_acc\": temp[\"val_corrupt_acc\"],\n",
    "                \"phase\": \"pretrain\"\n",
    "            })\n",
    "\n",
    "    df = pd.DataFrame(records)\n",
    "    df[\"optimizer\"] = pd.Categorical(df[\"optimizer\"], categories=optimizers)\n",
    "\n",
    "\n",
    "    yticks_acc = [0.7, 0.8, 0.9, 0.95, 0.98]\n",
    "    yticks_log = -np.log10(1 - np.array(yticks_acc))\n",
    "    ytick_labels = [f\"{acc:.3f}\" for acc in yticks_acc]\n",
    "\n",
    "    fig, axes = plt.subplots(1, 2, figsize=(16, 6))\n",
    "\n",
    "\n",
    "    sns.lineplot(data=df, x=\"epoch\", y=\"val_acc_log\", hue=\"optimizer\", marker=\"o\", ax=axes[0], estimator=None)\n",
    "    axes[0].set_title(\"Validation Accuracy vs Epoch\")\n",
    "    axes[0].set_xlabel(\"Epoch\")\n",
    "    axes[0].set_ylabel(r\"Validation Accuracy\")\n",
    "    axes[0].set_yticks(yticks_log)\n",
    "    axes[0].set_yticklabels(ytick_labels)\n",
    "    axes[0].grid(True)\n",
    "\n",
    "    sns.lineplot(data=df, x=\"epoch\", y=\"val_corrupt_acc\", hue=\"optimizer\", marker=\"o\", ax=axes[1], estimator=None)\n",
    "    axes[1].set_title(\"Validation Corrupt Accuracy vs Epoch\")\n",
    "    axes[1].set_xlabel(\"Epoch\")\n",
    "    axes[1].set_ylabel(\"Validation Corrupt Accuracy\")\n",
    "    axes[1].grid(True)\n",
    "\n",
    "    legend = axes[1].get_legend()\n",
    "    if legend is not None:\n",
    "        legend.remove()\n",
    "    #axes[1].get_legend().remove()\n",
    "    axes[0].legend(title=\"Optimizer\")\n",
    "\n",
    "    plt.tight_layout()\n",
    "    plt.savefig(f\"{save_dir}/val_acc_and_val_corrupt_acc_{'_'.join(optimizers)}.png\")\n",
    "    #plt.show()\n",
    "    plt.close(\"all\")\n",
    "\n",
    "plot_val_acc_and_val_corrupt_acc_seaborn(optimizers=OPTIMIZERS)\n",
    "plot_val_acc_and_val_corrupt_acc_seaborn(optimizers=[\"adam\", \"adamw\", \"muon\"])\n",
    "#plot_val_acc_and_val_corrupt_acc_seaborn(optimizers=[\"adamw\", \"10p\", \"spectralnorm\"])\n",
    "plot_val_acc_and_val_corrupt_acc_seaborn(optimizers=[\"muon\", \"muon10p\", \"muonspectralnorm\"])\n"
   ]
  },
  {
   "cell_type": "markdown",
   "id": "37461050-4265-4cf1-99f1-814bf08b8c00",
   "metadata": {},
   "source": [
    "## Gradient Norms"
   ]
  },
  {
   "cell_type": "code",
   "execution_count": 103,
   "id": "3451458e-b8a1-4a37-a4b2-7bdf47ce426b",
   "metadata": {},
   "outputs": [
    {
     "name": "stdout",
     "output_type": "stream",
     "text": [
      "['epoch6_norm_stats.pt', 'epoch29_norm_stats.pt', 'epoch39_norm_stats.pt', 'epoch25_norm_stats.pt', 'epoch18_norm_stats.pt', 'epoch38_norm_stats.pt', 'epoch3_norm_stats.pt', 'epoch21_norm_stats.pt', 'epoch10_norm_stats.pt', 'epoch48_norm_stats.pt', 'epoch12_norm_stats.pt', 'epoch40_norm_stats.pt', 'epoch8_norm_stats.pt', 'epoch5_norm_stats.pt', 'epoch23_norm_stats.pt', 'epoch15_norm_stats.pt', 'epoch2_norm_stats.pt', 'epoch14_norm_stats.pt', 'epoch34_norm_stats.pt', 'epoch35_norm_stats.pt', 'epoch31_norm_stats.pt', 'epoch9_norm_stats.pt', 'epoch11_norm_stats.pt', 'epoch16_norm_stats.pt', 'epoch20_norm_stats.pt', 'epoch1_norm_stats.pt', 'epoch13_norm_stats.pt', 'epoch45_norm_stats.pt', 'epoch22_norm_stats.pt', 'epoch24_norm_stats.pt', 'epoch28_norm_stats.pt', 'epoch50_norm_stats.pt', 'epoch49_norm_stats.pt', 'epoch30_norm_stats.pt', 'epoch7_norm_stats.pt', 'epoch32_norm_stats.pt', 'epoch27_norm_stats.pt', 'epoch33_norm_stats.pt', 'epoch43_norm_stats.pt', 'epoch47_norm_stats.pt', 'epoch4_norm_stats.pt', 'epoch37_norm_stats.pt', 'epoch26_norm_stats.pt', 'epoch41_norm_stats.pt', 'epoch36_norm_stats.pt', 'epoch44_norm_stats.pt', 'epoch46_norm_stats.pt', 'epoch42_norm_stats.pt', 'epoch19_norm_stats.pt', 'epoch17_norm_stats.pt']\n"
     ]
    }
   ],
   "source": [
    "print(os.listdir(RESULTS_DIR + OPTIMIZERS[0] + \"/gradients\"))"
   ]
  },
  {
   "cell_type": "code",
   "execution_count": 123,
   "id": "81537757",
   "metadata": {},
   "outputs": [],
   "source": [
    "\n",
    "def plot_gradient_norms(optimizers=OPTIMIZERS,save_dir=\"../figures/gradient_norm/\"):\n",
    "    if not os.path.exists(save_dir):\n",
    "        os.makedirs(save_dir)\n",
    "    records = []\n",
    "    for opt in optimizers:\n",
    "        for epoch in range(1, 31):\n",
    "            path = f\"{RESULTS_DIR}{opt}/gradients/epoch{epoch}_norm_stats.pt\"\n",
    "            if not os.path.exists(path):\n",
    "                print(f\"File {path} does not exist\")\n",
    "                continue\n",
    "            temp = torch.load(path, weights_only=False)['particle_0']['total_l2']\n",
    "            coef_var = temp[\"std\"] / temp[\"mean\"] if temp[\"mean\"] != 0 else np.nan\n",
    "            records.append({\n",
    "                \"optimizer\": opt,   \n",
    "                \"epoch\": epoch,\n",
    "                \"mean\": temp[\"mean\"],\n",
    "                \"std\": temp[\"std\"],\n",
    "                \"coef_var\": coef_var,\n",
    "                \"max\": temp[\"max\"]\n",
    "            })\n",
    "    df = pd.DataFrame(records)\n",
    "\n",
    "    plt.figure(figsize=(10, 6))\n",
    "    sns.lineplot(data=df, x=\"epoch\", y=\"mean\", hue=\"optimizer\", marker=\"o\")\n",
    "\n",
    "    for opt in df['optimizer'].unique():\n",
    "        opt_df = df[df['optimizer'] == opt]\n",
    "        plt.fill_between(\n",
    "            opt_df[\"epoch\"],\n",
    "            opt_df[\"mean\"] - opt_df[\"std\"],\n",
    "            opt_df[\"mean\"] + opt_df[\"std\"],\n",
    "            alpha=0.2\n",
    "        )\n",
    "\n",
    "    plt.title(\"Gradient Norm Mean per Epoch\")\n",
    "    plt.xlabel(\"Epoch\")\n",
    "    plt.ylabel(\"Mean Gradient Norm\")\n",
    "    plt.grid(True)\n",
    "    plt.tight_layout()\n",
    "    #plt.show()\n",
    "    plt.savefig(f\"{save_dir}gradient_norm_mean_{'_'.join(optimizers)}.png\")\n",
    "    plt.close()\n",
    "\n",
    "\n",
    "    fig, ax1 = plt.subplots(figsize=(10, 6))\n",
    "    sns.lineplot(data=df, x=\"epoch\", y=\"coef_var\", hue=\"optimizer\", marker=\"o\", ax=ax1)\n",
    "    ax1.set_title(\"Gradient Norm Coefficient of Variation per Epoch\")\n",
    "    ax1.set_xlabel(\"Epoch\")\n",
    "    ax1.set_ylabel(\"Coefficient of Variation (std/mean)\")\n",
    "    ax1.grid(True)\n",
    "    plt.tight_layout()\n",
    "    #plt.show()\n",
    "    plt.savefig(f\"{save_dir}gradient_norm_coef_var_{'_'.join(optimizers)}.png\")\n",
    "    plt.close()\n",
    "    plt.figure(figsize=(10, 6))\n",
    "    sns.lineplot(data=df, x=\"epoch\", y=\"max\", hue=\"optimizer\", marker=\"o\")\n",
    "    plt.title(\"Gradient Norm Max per Epoch\")\n",
    "    plt.xlabel(\"Epoch\")\n",
    "    plt.ylabel(\"Max Gradient Norm\")\n",
    "    plt.grid(True)\n",
    "    plt.tight_layout()\n",
    "    #plt.show()\n",
    "    plt.savefig(f\"{save_dir}gradient_norm_max_{'_'.join(optimizers)}.png\")\n",
    "    plt.close()\n",
    "\n",
    "plot_gradient_norms(optimizers=OPTIMIZERS)\n",
    "plot_gradient_norms(optimizers=[\"adam\", \"adamw\", \"muon\"])\n",
    "plot_gradient_norms(optimizers=[\"adamw\", \"10p\", \"spectralnorm\"])\n",
    "plot_gradient_norms(optimizers=[\"muon\", \"muon10p\", \"muonspectralnorm\"])\n"
   ]
  },
  {
   "cell_type": "markdown",
   "id": "1566c0e5-1a63-4209-a7c8-f6db310ca24a",
   "metadata": {},
   "source": [
    "## Losses"
   ]
  },
  {
   "cell_type": "code",
   "execution_count": 124,
   "id": "5df418c9-f53e-4cfe-9c64-3cde79f0defc",
   "metadata": {},
   "outputs": [
    {
     "name": "stdout",
     "output_type": "stream",
     "text": [
      "['particle0_epoch29_losses.pt', 'particle0_epoch5_losses.pt', 'particle0_epoch14_losses.pt', 'particle0_epoch8_losses.pt', 'particle0_epoch11_losses.pt', 'particle0_epoch23_losses.pt', 'particle0_epoch26_losses.pt', 'particle0_epoch3_losses.pt', 'particle0_epoch12_losses.pt', 'particle0_epoch27_losses.pt', 'particle0_epoch18_losses.pt', 'particle0_epoch25_losses.pt', 'particle0_epoch9_losses.pt', 'particle0_epoch24_losses.pt', 'particle0_epoch17_losses.pt', 'particle0_epoch21_losses.pt', 'particle0_epoch15_losses.pt', 'particle0_epoch22_losses.pt', 'particle0_epoch6_losses.pt', 'particle0_epoch7_losses.pt', 'particle0_epoch1_losses.pt', 'particle0_epoch16_losses.pt', 'particle0_epoch13_losses.pt', 'particle0_epoch10_losses.pt', 'particle0_epoch4_losses.pt', 'particle0_epoch28_losses.pt', 'particle0_epoch19_losses.pt', 'particle0_epoch30_losses.pt', 'particle0_epoch2_losses.pt', 'particle0_epoch20_losses.pt']\n"
     ]
    }
   ],
   "source": [
    "print(os.listdir(RESULTS_DIR + OPTIMIZERS[0] + \"/loss_landscape/\"))"
   ]
  },
  {
   "cell_type": "code",
   "execution_count": null,
   "id": "8fa034fd",
   "metadata": {},
   "outputs": [
    {
     "data": {
      "image/png": "[encoded data removed]",
      "text/plain": [
       "<Figure size 1000x600 with 1 Axes>"
      ]
     },
     "metadata": {},
     "output_type": "display_data"
    }
   ],
   "source": [
    "def plot_losses(optimizers=OPTIMIZERS, save_dir=\"../figures/losses/\"):\n",
    "    if not os.path.exists(save_dir):\n",
    "        os.makedirs(save_dir)\n",
    "    records = []\n",
    "    for opt in optimizers:\n",
    "        for epoch in range(1, 31):\n",
    "            path = f\"{RESULTS_DIR}{opt}/loss_landscape/particle0_epoch{epoch}_losses.pt\"\n",
    "            if not os.path.exists(path):\n",
    "                print(f\"File {path} does not exist\")\n",
    "                continue\n",
    "            temp = torch.load(path, weights_only=False)\n",
    "            records.append({\n",
    "                \"optimizer\": opt,\n",
    "                \"epoch\": epoch,\n",
    "                \"loss\": temp[\"train_loss\"],\n",
    "            })\n",
    "    df = pd.DataFrame(records)\n",
    "    fig, axes = plt.subplots(figsize=(10, 6))\n",
    "    sns.lineplot(data=df, x=\"epoch\", y=\"loss\", hue=\"optimizer\", marker=\"o\", ax=axes)\n",
    "    plt.yscale(\"log\")\n",
    "    plt.title(\"Losses per Epoch\")\n",
    "    plt.xlabel(\"Epoch\")\n",
    "    plt.ylabel(\"Log Loss\")\n",
    "    plt.legend(title=\"Optimizer\")\n",
    "    plt.savefig(f\"{save_dir}/losses.png\")\n",
    "\n",
    "plot_losses(optimizers=OPTIMIZERS)"
   ]
  },
  {
   "cell_type": "markdown",
   "id": "06672e37",
   "metadata": {},
   "source": [
    "## Swag Covariances"
   ]
  },
  {
   "cell_type": "code",
   "execution_count": 136,
   "id": "f4f51b0f-a4a0-4227-a030-721229e128cf",
   "metadata": {},
   "outputs": [
    {
     "name": "stdout",
     "output_type": "stream",
     "text": [
      "['particle2_epoch4_mom2.pt', 'particle6_epoch16_mom1.pt', 'particle3_epoch3_cov_mat_sqrt.pt', 'particle15_epoch5_cov_mat_sqrt.pt', 'particle4_epoch2_cov_mat_sqrt.pt', 'particle18_epoch2_mom2.pt', 'particle10_epoch12_cov_mat_sqrt.pt', 'particle12_epoch4_mom1.pt', 'particle19_epoch16_mom1.pt', 'particle13_epoch2_mom2.pt', 'particle9_epoch13_cov_mat_sqrt.pt', 'particle7_epoch14_cov_mat_sqrt.pt', 'particle17_epoch10_mom1.pt', 'particle19_epoch14_mom1.pt', 'particle8_epoch9_mom2.pt', 'particle6_epoch9_mom1.pt', 'particle0_epoch13_mom2.pt', 'particle4_epoch14_mom1.pt', 'particle6_epoch20_mom2.pt', 'particle4_epoch16_mom1.pt', 'particle9_epoch9_cov_mat_sqrt.pt', 'particle16_epoch13_mom2.pt', 'particle15_epoch11_mom1.pt', 'particle3_epoch3_mom2.pt', 'particle13_epoch7_mom1.pt', 'particle9_epoch5_mom1.pt', 'particle4_epoch8_cov_mat_sqrt.pt', 'particle9_epoch8_mom1.pt', 'particle11_epoch2_mom2.pt', 'particle12_epoch11_mom2.pt', 'particle9_epoch18_cov_mat_sqrt.pt', 'particle16_epoch14_mom1.pt', 'particle8_epoch0_cov_mat_sqrt.pt', 'particle15_epoch16_mom1.pt', 'particle7_epoch12_mom2.pt', 'particle17_epoch18_cov_mat_sqrt.pt', 'particle8_epoch7_mom2.pt', 'particle16_epoch20_mom2.pt', 'particle7_epoch0_mom1.pt', 'particle5_epoch6_mom2.pt', 'particle5_epoch14_mom1.pt', 'particle8_epoch10_mom1.pt', 'particle17_epoch17_mom2.pt', 'particle2_epoch18_mom1.pt', 'particle3_epoch15_cov_mat_sqrt.pt', 'particle16_epoch3_mom1.pt', 'particle4_epoch13_mom2.pt', 'particle13_epoch14_cov_mat_sqrt.pt', 'particle14_epoch16_mom2.pt', 'particle14_epoch5_cov_mat_sqrt.pt', 'particle11_epoch9_mom1.pt', 'particle5_epoch9_mom2.pt', 'particle14_epoch13_mom2.pt', 'particle17_epoch2_mom1.pt', 'particle5_epoch0_mom1.pt', 'particle17_epoch1_mom1.pt', 'particle15_epoch6_mom1.pt', 'particle10_epoch5_mom1.pt', 'particle18_epoch17_mom2.pt', 'particle14_epoch12_mom1.pt', 'particle3_epoch18_mom1.pt', 'particle12_epoch16_mom2.pt', 'particle14_epoch7_mom2.pt', 'particle7_epoch12_cov_mat_sqrt.pt', 'particle6_epoch14_mom1.pt', 'particle12_epoch1_mom1.pt', 'particle2_epoch12_mom2.pt', 'particle9_epoch10_mom2.pt', 'particle8_epoch5_cov_mat_sqrt.pt', 'particle16_epoch0_mom1.pt', 'particle0_epoch6_cov_mat_sqrt.pt', 'particle4_epoch6_cov_mat_sqrt.pt', 'particle1_epoch15_cov_mat_sqrt.pt', 'particle18_epoch12_mom2.pt', 'particle8_epoch4_mom2.pt', 'particle17_epoch18_mom2.pt', 'particle13_epoch18_cov_mat_sqrt.pt', 'particle16_epoch12_cov_mat_sqrt.pt', 'particle1_epoch2_mom1.pt', 'particle18_epoch9_mom1.pt', 'particle7_epoch4_mom2.pt', 'particle18_epoch7_mom1.pt', 'particle1_epoch17_mom1.pt', 'particle6_epoch9_mom2.pt', 'particle11_epoch20_cov_mat_sqrt.pt', 'particle11_epoch9_cov_mat_sqrt.pt', 'particle6_epoch13_mom2.pt', 'particle4_epoch18_mom2.pt', 'particle15_epoch7_cov_mat_sqrt.pt', 'particle4_epoch17_mom1.pt', 'particle13_epoch16_cov_mat_sqrt.pt', 'particle1_epoch12_cov_mat_sqrt.pt', 'particle1_epoch9_mom2.pt', 'particle2_epoch16_cov_mat_sqrt.pt', 'particle15_epoch3_cov_mat_sqrt.pt', 'particle12_epoch7_mom2.pt', 'particle3_epoch17_cov_mat_sqrt.pt', 'particle14_epoch6_mom1.pt', 'particle7_epoch14_mom2.pt', 'particle14_epoch11_mom2.pt', 'particle7_epoch19_cov_mat_sqrt.pt', 'particle1_epoch0_mom1.pt', 'particle11_epoch2_cov_mat_sqrt.pt', 'particle16_epoch10_mom2.pt', 'particle2_epoch0_mom2.pt', 'particle5_epoch8_mom1.pt', 'particle16_epoch9_mom2.pt', 'particle15_epoch9_mom2.pt', 'particle14_epoch14_mom2.pt', 'particle19_epoch9_cov_mat_sqrt.pt', 'particle6_epoch11_mom2.pt', 'particle8_epoch17_mom1.pt', 'particle7_epoch7_mom1.pt', 'particle0_epoch7_mom1.pt', 'particle14_epoch14_cov_mat_sqrt.pt', 'particle9_epoch11_mom1.pt', 'particle9_epoch7_cov_mat_sqrt.pt', 'particle0_epoch19_cov_mat_sqrt.pt', 'particle9_epoch7_mom1.pt', 'particle6_epoch16_cov_mat_sqrt.pt', 'particle11_epoch17_mom1.pt', 'particle11_epoch18_mom1.pt', 'particle5_epoch2_mom1.pt', 'particle7_epoch1_cov_mat_sqrt.pt', 'particle18_epoch19_mom2.pt', 'particle5_epoch12_mom1.pt', 'particle1_epoch8_cov_mat_sqrt.pt', 'particle13_epoch3_mom2.pt', 'particle12_epoch18_mom2.pt', 'particle17_epoch12_mom1.pt', 'particle5_epoch19_mom2.pt', 'particle9_epoch15_mom1.pt', 'particle13_epoch16_mom2.pt', 'particle1_epoch6_mom1.pt', 'particle10_epoch19_mom1.pt', 'particle18_epoch10_mom2.pt', 'particle1_epoch9_mom1.pt', 'particle16_epoch6_cov_mat_sqrt.pt', 'particle11_epoch17_mom2.pt', 'particle5_epoch9_mom1.pt', 'particle7_epoch5_mom2.pt', 'particle17_epoch0_mom2.pt', 'particle11_epoch15_mom2.pt', 'particle5_epoch13_mom2.pt', 'particle11_epoch19_mom1.pt', 'particle5_epoch5_cov_mat_sqrt.pt', 'particle6_epoch3_cov_mat_sqrt.pt', 'particle18_epoch18_cov_mat_sqrt.pt', 'particle6_epoch12_mom2.pt', 'particle14_epoch0_cov_mat_sqrt.pt', 'particle12_epoch13_mom2.pt', 'particle2_epoch10_mom2.pt', 'particle18_epoch3_mom1.pt', 'particle9_epoch9_mom2.pt', 'particle7_epoch10_mom1.pt', 'particle11_epoch8_cov_mat_sqrt.pt', 'particle3_epoch15_mom1.pt', 'particle8_epoch6_mom1.pt', 'particle11_epoch10_mom2.pt', 'particle1_epoch11_cov_mat_sqrt.pt', 'particle6_epoch3_mom2.pt', 'particle10_epoch6_mom2.pt', 'particle3_epoch2_mom1.pt', 'particle19_epoch12_mom1.pt', 'particle8_epoch16_mom1.pt', 'particle19_epoch1_cov_mat_sqrt.pt', 'particle14_epoch5_mom2.pt', 'particle8_epoch12_cov_mat_sqrt.pt', 'particle7_epoch17_mom1.pt', 'particle15_epoch14_mom1.pt', 'particle17_epoch17_mom1.pt', 'particle15_epoch2_cov_mat_sqrt.pt', 'particle3_epoch5_cov_mat_sqrt.pt', 'particle5_epoch12_mom2.pt', 'particle19_epoch13_cov_mat_sqrt.pt', 'particle18_epoch10_mom1.pt', 'particle18_epoch20_mom2.pt', 'particle0_epoch6_mom2.pt', 'particle14_epoch17_mom1.pt', 'particle16_epoch1_cov_mat_sqrt.pt', 'particle1_epoch7_mom2.pt', 'particle6_epoch1_cov_mat_sqrt.pt', 'particle6_epoch19_cov_mat_sqrt.pt', 'particle0_epoch20_mom1.pt', 'particle6_epoch17_mom2.pt', 'particle0_epoch20_mom2.pt', 'particle16_epoch1_mom1.pt', 'particle6_epoch4_cov_mat_sqrt.pt', 'particle9_epoch3_cov_mat_sqrt.pt', 'particle9_epoch17_mom2.pt', 'particle2_epoch16_mom2.pt', 'particle0_epoch19_mom2.pt', 'particle2_epoch16_mom1.pt', 'particle7_epoch19_mom2.pt', 'particle12_epoch19_mom1.pt', 'particle13_epoch12_cov_mat_sqrt.pt', 'particle0_epoch2_cov_mat_sqrt.pt', 'particle15_epoch18_mom1.pt', 'particle13_epoch14_mom1.pt', 'particle19_epoch0_mom1.pt', 'particle15_epoch3_mom1.pt', 'particle10_epoch9_mom1.pt', 'particle0_epoch9_cov_mat_sqrt.pt', 'particle14_epoch4_mom1.pt', 'particle5_epoch19_cov_mat_sqrt.pt', 'particle6_epoch20_cov_mat_sqrt.pt', 'particle14_epoch9_cov_mat_sqrt.pt', 'particle19_epoch18_mom2.pt', 'particle3_epoch13_mom2.pt', 'particle18_epoch8_mom2.pt', 'particle2_epoch4_cov_mat_sqrt.pt', 'particle4_epoch19_mom2.pt', 'particle19_epoch17_mom2.pt', 'particle2_epoch20_mom1.pt', 'particle16_epoch16_cov_mat_sqrt.pt', 'particle13_epoch3_cov_mat_sqrt.pt', 'particle4_epoch12_cov_mat_sqrt.pt', 'particle4_epoch10_cov_mat_sqrt.pt', 'particle6_epoch12_cov_mat_sqrt.pt', 'particle0_epoch18_mom2.pt', 'particle2_epoch19_mom2.pt', 'particle5_epoch3_cov_mat_sqrt.pt', 'particle9_epoch13_mom1.pt', 'particle18_epoch12_cov_mat_sqrt.pt', 'particle10_epoch6_cov_mat_sqrt.pt', 'particle7_epoch15_mom2.pt', 'particle18_epoch9_mom2.pt', 'particle12_epoch8_mom1.pt', 'particle8_epoch13_cov_mat_sqrt.pt', 'particle4_epoch4_cov_mat_sqrt.pt', 'particle4_epoch12_mom1.pt', 'particle6_epoch0_mom1.pt', 'particle7_epoch17_mom2.pt', 'particle12_epoch2_mom2.pt', 'particle12_epoch20_mom1.pt', 'particle10_epoch15_cov_mat_sqrt.pt', 'particle10_epoch7_mom2.pt', 'particle11_epoch16_cov_mat_sqrt.pt', 'particle15_epoch2_mom2.pt', 'particle18_epoch2_mom1.pt', 'particle14_epoch20_mom2.pt', 'particle18_epoch0_mom1.pt', 'particle18_epoch6_mom2.pt', 'particle16_epoch20_cov_mat_sqrt.pt', 'particle11_epoch4_mom2.pt', 'particle2_epoch14_mom1.pt', 'particle19_epoch8_mom1.pt', 'particle5_epoch16_mom1.pt', 'particle3_epoch16_mom1.pt', 'particle5_epoch13_cov_mat_sqrt.pt', 'particle6_epoch2_cov_mat_sqrt.pt', 'particle13_epoch6_cov_mat_sqrt.pt', 'particle19_epoch6_mom2.pt', 'particle8_epoch1_mom2.pt', 'particle5_epoch3_mom2.pt', 'particle18_epoch18_mom1.pt', 'particle11_epoch17_cov_mat_sqrt.pt', 'particle7_epoch5_cov_mat_sqrt.pt', 'particle5_epoch18_mom1.pt', 'particle11_epoch15_mom1.pt', 'particle4_epoch18_mom1.pt', 'particle15_epoch17_mom2.pt', 'particle8_epoch15_mom2.pt', 'particle4_epoch15_mom1.pt', 'particle2_epoch2_mom2.pt', 'particle2_epoch0_cov_mat_sqrt.pt', 'particle17_epoch7_mom1.pt', 'particle15_epoch16_cov_mat_sqrt.pt', 'particle0_epoch1_mom1.pt', 'particle1_epoch14_mom1.pt', 'particle9_epoch17_mom1.pt', 'particle5_epoch15_mom1.pt', 'particle3_epoch19_mom2.pt', 'particle11_epoch7_cov_mat_sqrt.pt', 'particle13_epoch2_mom1.pt', 'particle15_epoch6_cov_mat_sqrt.pt', 'particle3_epoch0_mom1.pt', 'particle9_epoch18_mom2.pt', 'particle6_epoch7_mom2.pt', 'particle3_epoch1_mom2.pt', 'particle16_epoch4_mom2.pt', 'particle5_epoch8_mom2.pt', 'particle9_epoch5_cov_mat_sqrt.pt', 'particle7_epoch6_mom1.pt', 'particle13_epoch8_mom2.pt', 'particle12_epoch16_mom1.pt', 'particle15_epoch0_cov_mat_sqrt.pt', 'particle16_epoch17_mom2.pt', 'particle2_epoch20_mom2.pt', 'particle11_epoch0_cov_mat_sqrt.pt', 'particle12_epoch18_mom1.pt', 'particle0_epoch18_mom1.pt', 'particle3_epoch10_mom2.pt', 'particle15_epoch12_cov_mat_sqrt.pt', 'particle4_epoch5_cov_mat_sqrt.pt', 'particle7_epoch13_cov_mat_sqrt.pt', 'particle17_epoch15_mom2.pt', 'particle16_epoch3_mom2.pt', 'particle5_epoch0_mom2.pt', 'particle0_epoch5_cov_mat_sqrt.pt', 'particle19_epoch8_cov_mat_sqrt.pt', 'particle18_epoch4_mom2.pt', 'particle17_epoch5_mom2.pt', 'particle12_epoch3_mom2.pt', 'particle13_epoch13_cov_mat_sqrt.pt', 'particle9_epoch17_cov_mat_sqrt.pt', 'particle4_epoch17_mom2.pt', 'particle15_epoch18_cov_mat_sqrt.pt', 'particle0_epoch13_mom1.pt', 'particle11_epoch12_mom2.pt', 'particle10_epoch18_cov_mat_sqrt.pt', 'particle11_epoch6_mom1.pt', 'particle18_epoch19_mom1.pt', 'particle6_epoch6_mom2.pt', 'particle11_epoch7_mom1.pt', 'particle3_epoch13_mom1.pt', 'particle2_epoch1_mom2.pt', 'particle15_epoch13_mom2.pt', 'particle5_epoch2_mom2.pt', 'particle5_epoch13_mom1.pt', 'particle15_epoch5_mom2.pt', 'particle17_epoch6_cov_mat_sqrt.pt', 'particle12_epoch6_cov_mat_sqrt.pt', 'particle1_epoch9_cov_mat_sqrt.pt', 'particle3_epoch9_mom1.pt', 'particle18_epoch11_mom2.pt', 'particle17_epoch8_mom1.pt', 'particle2_epoch10_mom1.pt', 'particle16_epoch14_cov_mat_sqrt.pt', 'particle14_epoch5_mom1.pt', 'particle1_epoch16_cov_mat_sqrt.pt', 'particle0_epoch15_mom2.pt', 'particle18_epoch20_mom1.pt', 'particle7_epoch4_mom1.pt', 'particle18_epoch3_cov_mat_sqrt.pt', 'particle10_epoch19_cov_mat_sqrt.pt', 'particle16_epoch5_cov_mat_sqrt.pt', 'particle3_epoch2_cov_mat_sqrt.pt', 'particle17_epoch15_cov_mat_sqrt.pt', 'particle14_epoch6_cov_mat_sqrt.pt', 'particle3_epoch7_cov_mat_sqrt.pt', 'particle13_epoch12_mom1.pt', 'particle4_epoch1_mom1.pt', 'particle17_epoch10_cov_mat_sqrt.pt', 'particle0_epoch20_cov_mat_sqrt.pt', 'particle16_epoch8_mom2.pt', 'particle16_epoch9_cov_mat_sqrt.pt', 'particle11_epoch14_cov_mat_sqrt.pt', 'particle8_epoch17_cov_mat_sqrt.pt', 'particle12_epoch20_mom2.pt', 'particle8_epoch11_mom2.pt', 'particle18_epoch17_cov_mat_sqrt.pt', 'particle12_epoch15_mom2.pt', 'particle4_epoch2_mom1.pt', 'particle19_epoch19_cov_mat_sqrt.pt', 'particle7_epoch2_mom2.pt', 'particle11_epoch4_mom1.pt', 'particle0_epoch15_mom1.pt', 'particle5_epoch9_cov_mat_sqrt.pt', 'particle16_epoch15_mom1.pt', 'particle5_epoch10_mom1.pt', 'particle11_epoch12_mom1.pt', 'particle2_epoch12_mom1.pt', 'particle14_epoch4_mom2.pt', 'particle10_epoch3_mom1.pt', 'particle7_epoch8_mom2.pt', 'particle10_epoch8_mom2.pt', 'particle16_epoch2_mom2.pt', 'particle3_epoch12_mom2.pt', 'particle11_epoch16_mom2.pt', 'particle10_epoch4_mom2.pt', 'particle6_epoch18_cov_mat_sqrt.pt', 'particle14_epoch10_mom2.pt', 'particle18_epoch1_mom2.pt', 'particle19_epoch12_cov_mat_sqrt.pt', 'particle17_epoch16_mom1.pt', 'particle14_epoch6_mom2.pt', 'particle10_epoch20_mom1.pt', 'particle5_epoch18_cov_mat_sqrt.pt', 'particle4_epoch20_mom2.pt', 'particle11_epoch11_mom1.pt', 'particle14_epoch14_mom1.pt', 'particle19_epoch13_mom1.pt', 'particle15_epoch20_mom2.pt', 'particle19_epoch1_mom2.pt', 'particle9_epoch6_cov_mat_sqrt.pt', 'particle12_epoch5_mom1.pt', 'particle2_epoch10_cov_mat_sqrt.pt', 'particle1_epoch5_mom2.pt', 'particle4_epoch10_mom1.pt', 'particle3_epoch19_mom1.pt', 'particle3_epoch7_mom1.pt', 'particle3_epoch9_cov_mat_sqrt.pt', 'particle2_epoch5_mom2.pt', 'particle5_epoch1_mom2.pt', 'particle5_epoch15_mom2.pt', 'particle7_epoch9_mom2.pt', 'particle17_epoch14_mom1.pt', 'particle19_epoch20_mom1.pt', 'particle16_epoch19_mom2.pt', 'particle14_epoch10_cov_mat_sqrt.pt', 'particle12_epoch3_cov_mat_sqrt.pt', 'particle18_epoch14_mom1.pt', 'particle11_epoch0_mom2.pt', 'particle2_epoch17_mom1.pt', 'particle4_epoch14_mom2.pt', 'particle7_epoch10_cov_mat_sqrt.pt', 'particle12_epoch4_cov_mat_sqrt.pt', 'particle4_epoch11_cov_mat_sqrt.pt', 'particle2_epoch9_cov_mat_sqrt.pt', 'particle14_epoch15_cov_mat_sqrt.pt', 'particle8_epoch11_cov_mat_sqrt.pt', 'particle14_epoch2_mom2.pt', 'particle0_epoch10_cov_mat_sqrt.pt', 'particle13_epoch17_cov_mat_sqrt.pt', 'particle14_epoch3_mom2.pt', 'particle4_epoch8_mom2.pt', 'particle6_epoch20_mom1.pt', 'particle15_epoch7_mom1.pt', 'particle11_epoch5_cov_mat_sqrt.pt', 'particle4_epoch16_mom2.pt', 'particle10_epoch2_mom1.pt', 'particle19_epoch18_cov_mat_sqrt.pt', 'particle2_epoch1_cov_mat_sqrt.pt', 'particle1_epoch4_mom2.pt', 'particle18_epoch4_cov_mat_sqrt.pt', 'particle9_epoch10_cov_mat_sqrt.pt', 'particle2_epoch6_mom1.pt', 'particle6_epoch5_mom1.pt', 'particle7_epoch8_mom1.pt', 'particle17_epoch7_mom2.pt', 'particle3_epoch8_mom2.pt', 'particle7_epoch0_cov_mat_sqrt.pt', 'particle6_epoch11_mom1.pt', 'particle19_epoch20_cov_mat_sqrt.pt', 'particle12_epoch2_mom1.pt', 'particle15_epoch7_mom2.pt', 'particle18_epoch20_cov_mat_sqrt.pt', 'particle10_epoch0_mom2.pt', 'particle13_epoch15_mom1.pt', 'particle1_epoch11_mom2.pt', 'particle12_epoch12_mom2.pt', 'particle14_epoch2_cov_mat_sqrt.pt', 'particle5_epoch6_mom1.pt', 'particle4_epoch4_mom2.pt', 'particle5_epoch18_mom2.pt', 'particle16_epoch19_mom1.pt', 'particle7_epoch16_mom1.pt', 'particle0_epoch11_mom1.pt', 'particle3_epoch20_mom2.pt', 'particle12_epoch12_cov_mat_sqrt.pt', 'particle7_epoch12_mom1.pt', 'particle10_epoch5_cov_mat_sqrt.pt', 'particle2_epoch5_cov_mat_sqrt.pt', 'particle6_epoch6_mom1.pt', 'particle12_epoch5_mom2.pt', 'particle15_epoch11_mom2.pt', 'particle11_epoch7_mom2.pt', 'particle5_epoch17_mom1.pt', 'particle0_epoch8_cov_mat_sqrt.pt', 'particle17_epoch1_cov_mat_sqrt.pt', 'particle5_epoch16_mom2.pt', 'particle1_epoch3_mom2.pt', 'particle6_epoch2_mom2.pt', 'particle18_epoch13_mom1.pt', 'particle19_epoch4_cov_mat_sqrt.pt', 'particle14_epoch3_mom1.pt', 'particle10_epoch20_cov_mat_sqrt.pt', 'particle1_epoch15_mom1.pt', 'particle5_epoch1_mom1.pt', 'particle3_epoch6_cov_mat_sqrt.pt', 'particle4_epoch3_mom1.pt', 'particle0_epoch10_mom2.pt', 'particle15_epoch8_mom1.pt', 'particle0_epoch4_mom2.pt', 'particle7_epoch10_mom2.pt', 'particle6_epoch14_mom2.pt', 'particle13_epoch18_mom1.pt', 'particle6_epoch2_mom1.pt', 'particle18_epoch15_mom2.pt', 'particle2_epoch9_mom2.pt', 'particle4_epoch13_mom1.pt', 'particle11_epoch8_mom2.pt', 'particle2_epoch6_mom2.pt', 'particle10_epoch8_cov_mat_sqrt.pt', 'particle1_epoch0_mom2.pt', 'particle13_epoch4_cov_mat_sqrt.pt', 'particle17_epoch10_mom2.pt', 'particle17_epoch8_mom2.pt', 'particle13_epoch15_cov_mat_sqrt.pt', 'particle9_epoch0_mom2.pt', 'particle15_epoch1_mom1.pt', 'particle5_epoch11_mom1.pt', 'particle3_epoch6_mom1.pt', 'particle10_epoch13_mom1.pt', 'particle19_epoch17_cov_mat_sqrt.pt', 'particle12_epoch4_mom2.pt', 'particle11_epoch20_mom2.pt', 'particle10_epoch0_mom1.pt', 'particle4_epoch7_mom2.pt', 'particle0_epoch7_mom2.pt', 'particle18_epoch19_cov_mat_sqrt.pt', 'particle1_epoch14_mom2.pt', 'particle15_epoch2_mom1.pt', 'particle10_epoch10_mom2.pt', 'particle11_epoch9_mom2.pt', 'particle1_epoch6_cov_mat_sqrt.pt', 'particle3_epoch13_cov_mat_sqrt.pt', 'particle1_epoch1_mom1.pt', 'particle18_epoch7_cov_mat_sqrt.pt', 'particle14_epoch11_mom1.pt', 'particle2_epoch15_mom1.pt', 'particle15_epoch17_cov_mat_sqrt.pt', 'particle2_epoch11_mom1.pt', 'particle7_epoch14_mom1.pt', 'particle17_epoch16_cov_mat_sqrt.pt', 'particle1_epoch20_mom2.pt', 'particle19_epoch7_mom2.pt', 'particle0_epoch18_cov_mat_sqrt.pt', 'particle10_epoch7_mom1.pt', 'particle8_epoch5_mom2.pt', 'particle8_epoch18_cov_mat_sqrt.pt', 'particle7_epoch3_mom1.pt', 'particle19_epoch2_mom2.pt', 'particle14_epoch16_mom1.pt', 'particle3_epoch1_mom1.pt', 'particle18_epoch14_cov_mat_sqrt.pt', 'particle16_epoch12_mom2.pt', 'particle7_epoch18_mom1.pt', 'particle4_epoch9_mom1.pt', 'particle11_epoch13_cov_mat_sqrt.pt', 'particle7_epoch1_mom1.pt', 'particle12_epoch10_cov_mat_sqrt.pt', 'particle16_epoch17_cov_mat_sqrt.pt', 'particle3_epoch14_mom1.pt', 'particle6_epoch19_mom2.pt', 'particle2_epoch19_mom1.pt', 'particle3_epoch5_mom1.pt', 'particle15_epoch0_mom2.pt', 'particle1_epoch13_mom2.pt', 'particle1_epoch5_cov_mat_sqrt.pt', 'particle5_epoch11_mom2.pt', 'particle8_epoch14_mom2.pt', 'particle12_epoch2_cov_mat_sqrt.pt', 'particle13_epoch16_mom1.pt', 'particle0_epoch4_cov_mat_sqrt.pt', 'particle16_epoch4_mom1.pt', 'particle19_epoch20_mom2.pt', 'particle6_epoch16_mom2.pt', 'particle12_epoch19_mom2.pt', 'particle18_epoch13_mom2.pt', 'particle9_epoch4_mom1.pt', 'particle1_epoch20_mom1.pt', 'particle9_epoch2_cov_mat_sqrt.pt', 'particle10_epoch14_mom1.pt', 'particle17_epoch11_mom2.pt', 'particle15_epoch1_mom2.pt', 'particle0_epoch15_cov_mat_sqrt.pt', 'particle15_epoch1_cov_mat_sqrt.pt', 'particle1_epoch4_mom1.pt', 'particle2_epoch0_mom1.pt', 'particle0_epoch0_mom2.pt', 'particle15_epoch0_mom1.pt', 'particle9_epoch8_mom2.pt', 'particle7_epoch1_mom2.pt', 'particle1_epoch12_mom1.pt', 'particle9_epoch12_mom1.pt', 'particle15_epoch10_mom2.pt', 'particle3_epoch5_mom2.pt', 'particle7_epoch6_mom2.pt', 'particle1_epoch11_mom1.pt', 'particle4_epoch5_mom1.pt', 'particle19_epoch17_mom1.pt', 'particle8_epoch1_mom1.pt', 'particle18_epoch17_mom1.pt', 'particle11_epoch14_mom1.pt', 'particle4_epoch20_mom1.pt', 'particle4_epoch7_cov_mat_sqrt.pt', 'particle2_epoch13_mom1.pt', 'particle0_epoch8_mom2.pt', 'particle16_epoch11_mom2.pt', 'particle13_epoch1_mom1.pt', 'particle18_epoch1_mom1.pt', 'particle4_epoch3_cov_mat_sqrt.pt', 'particle19_epoch15_mom2.pt', 'particle19_epoch18_mom1.pt', 'particle17_epoch6_mom1.pt', 'particle1_epoch10_mom1.pt', 'particle11_epoch3_cov_mat_sqrt.pt', 'particle10_epoch12_mom2.pt', 'particle3_epoch3_mom1.pt', 'particle12_epoch15_mom1.pt', 'particle8_epoch19_cov_mat_sqrt.pt', 'particle7_epoch17_cov_mat_sqrt.pt', 'particle14_epoch15_mom1.pt', 'particle16_epoch17_mom1.pt', 'particle0_epoch2_mom2.pt', 'particle12_epoch0_mom1.pt', 'particle4_epoch17_cov_mat_sqrt.pt', 'particle10_epoch11_mom1.pt', 'particle14_epoch13_cov_mat_sqrt.pt', 'particle4_epoch10_mom2.pt', 'particle8_epoch18_mom1.pt', 'particle1_epoch17_mom2.pt', 'particle7_epoch3_mom2.pt', 'particle11_epoch11_mom2.pt', 'particle14_epoch11_cov_mat_sqrt.pt', 'particle6_epoch18_mom2.pt', 'particle16_epoch14_mom2.pt', 'particle18_epoch5_mom2.pt', 'particle17_epoch14_cov_mat_sqrt.pt', 'particle1_epoch7_mom1.pt', 'particle9_epoch19_mom2.pt', 'particle17_epoch5_mom1.pt', 'particle0_epoch13_cov_mat_sqrt.pt', 'particle3_epoch10_cov_mat_sqrt.pt', 'particle16_epoch2_mom1.pt', 'particle11_epoch20_mom1.pt', 'particle19_epoch2_mom1.pt', 'particle14_epoch0_mom2.pt', 'particle14_epoch13_mom1.pt', 'particle4_epoch6_mom2.pt', 'particle16_epoch20_mom1.pt', 'particle10_epoch20_mom2.pt', 'particle9_epoch0_cov_mat_sqrt.pt', 'particle18_epoch5_cov_mat_sqrt.pt', 'particle2_epoch13_cov_mat_sqrt.pt', 'particle16_epoch18_mom1.pt', 'particle3_epoch18_mom2.pt', 'particle9_epoch9_mom1.pt', 'particle13_epoch5_mom1.pt', 'particle5_epoch6_cov_mat_sqrt.pt', 'particle17_epoch20_mom1.pt', 'particle5_epoch7_cov_mat_sqrt.pt', 'particle12_epoch10_mom2.pt', 'particle17_epoch19_cov_mat_sqrt.pt', 'particle19_epoch0_mom2.pt', 'particle2_epoch14_mom2.pt', 'particle18_epoch15_mom1.pt', 'particle9_epoch15_mom2.pt', 'particle8_epoch6_mom2.pt', 'particle13_epoch0_cov_mat_sqrt.pt', 'particle15_epoch18_mom2.pt', 'particle14_epoch9_mom2.pt', 'particle19_epoch7_cov_mat_sqrt.pt', 'particle0_epoch12_mom2.pt', 'particle1_epoch12_mom2.pt', 'particle3_epoch8_mom1.pt', 'particle18_epoch0_mom2.pt', 'particle17_epoch12_cov_mat_sqrt.pt', 'particle17_epoch6_mom2.pt', 'particle5_epoch8_cov_mat_sqrt.pt', 'particle9_epoch14_mom1.pt', 'particle5_epoch4_mom2.pt', 'particle0_epoch0_mom1.pt', 'particle11_epoch19_cov_mat_sqrt.pt', 'particle3_epoch12_cov_mat_sqrt.pt', 'particle13_epoch4_mom1.pt', 'particle19_epoch3_mom2.pt', 'particle0_epoch12_mom1.pt', 'particle0_epoch12_cov_mat_sqrt.pt', 'particle17_epoch3_mom1.pt', 'particle0_epoch14_mom2.pt', 'particle0_epoch5_mom2.pt', 'particle7_epoch15_cov_mat_sqrt.pt', 'particle8_epoch3_mom2.pt', 'particle15_epoch14_mom2.pt', 'particle3_epoch0_mom2.pt', 'particle2_epoch2_mom1.pt', 'particle7_epoch4_cov_mat_sqrt.pt', 'particle14_epoch1_mom1.pt', 'particle9_epoch14_mom2.pt', 'particle12_epoch8_cov_mat_sqrt.pt', 'particle11_epoch10_mom1.pt', 'particle8_epoch12_mom2.pt', 'particle19_epoch15_mom1.pt', 'particle12_epoch12_mom1.pt', 'particle8_epoch14_mom1.pt', 'particle8_epoch7_cov_mat_sqrt.pt', 'particle7_epoch2_mom1.pt', 'particle17_epoch20_mom2.pt', 'particle18_epoch15_cov_mat_sqrt.pt', 'particle16_epoch19_cov_mat_sqrt.pt', 'particle15_epoch14_cov_mat_sqrt.pt', 'particle18_epoch4_mom1.pt', 'particle3_epoch6_mom2.pt', 'particle10_epoch2_mom2.pt', 'particle18_epoch18_mom2.pt', 'particle2_epoch13_mom2.pt', 'particle11_epoch11_cov_mat_sqrt.pt', 'particle19_epoch2_cov_mat_sqrt.pt', 'particle10_epoch10_mom1.pt', 'particle3_epoch16_mom2.pt', 'particle6_epoch13_cov_mat_sqrt.pt', 'particle1_epoch2_mom2.pt', 'particle3_epoch11_mom1.pt', 'particle14_epoch7_mom1.pt', 'particle18_epoch8_mom1.pt', 'particle6_epoch0_mom2.pt', 'particle9_epoch1_mom2.pt', 'particle15_epoch19_mom2.pt', 'particle19_epoch5_mom2.pt', 'particle9_epoch11_mom2.pt', 'particle2_epoch18_cov_mat_sqrt.pt', 'particle4_epoch1_mom2.pt', 'particle6_epoch6_cov_mat_sqrt.pt', 'particle13_epoch10_cov_mat_sqrt.pt', 'particle12_epoch17_cov_mat_sqrt.pt', 'particle9_epoch2_mom1.pt', 'particle2_epoch8_mom2.pt', 'particle19_epoch11_cov_mat_sqrt.pt', 'particle11_epoch10_cov_mat_sqrt.pt', 'particle6_epoch1_mom2.pt', 'particle17_epoch16_mom2.pt', 'particle0_epoch5_mom1.pt', 'particle10_epoch15_mom1.pt', 'particle16_epoch3_cov_mat_sqrt.pt', 'particle1_epoch19_mom1.pt', 'particle3_epoch11_cov_mat_sqrt.pt', 'particle12_epoch13_mom1.pt', 'particle15_epoch15_mom2.pt', 'particle15_epoch15_cov_mat_sqrt.pt', 'particle19_epoch8_mom2.pt', 'particle1_epoch1_cov_mat_sqrt.pt', 'particle17_epoch13_cov_mat_sqrt.pt', 'particle8_epoch19_mom2.pt', 'particle13_epoch18_mom2.pt', 'particle16_epoch9_mom1.pt', 'particle3_epoch20_cov_mat_sqrt.pt', 'particle14_epoch16_cov_mat_sqrt.pt', 'particle6_epoch0_cov_mat_sqrt.pt', 'particle12_epoch3_mom1.pt', 'particle19_epoch6_mom1.pt', 'particle6_epoch13_mom1.pt', 'particle10_epoch1_mom1.pt', 'particle16_epoch8_cov_mat_sqrt.pt', 'particle11_epoch2_mom1.pt', 'particle13_epoch19_mom1.pt', 'particle16_epoch16_mom2.pt', 'particle8_epoch1_cov_mat_sqrt.pt', 'particle16_epoch10_cov_mat_sqrt.pt', 'particle5_epoch19_mom1.pt', 'particle16_epoch12_mom1.pt', 'particle19_epoch1_mom1.pt', 'particle12_epoch17_mom1.pt', 'particle1_epoch15_mom2.pt', 'particle8_epoch4_cov_mat_sqrt.pt', 'particle15_epoch13_cov_mat_sqrt.pt', 'particle14_epoch19_cov_mat_sqrt.pt', 'particle17_epoch0_mom1.pt', 'particle17_epoch9_cov_mat_sqrt.pt', 'particle16_epoch16_mom1.pt', 'particle13_epoch11_mom1.pt', 'particle8_epoch10_mom2.pt', 'particle2_epoch15_mom2.pt', 'particle15_epoch9_cov_mat_sqrt.pt', 'particle12_epoch15_cov_mat_sqrt.pt', 'particle3_epoch14_mom2.pt', 'particle17_epoch7_cov_mat_sqrt.pt', 'particle9_epoch6_mom1.pt', 'particle5_epoch17_cov_mat_sqrt.pt', 'particle16_epoch5_mom1.pt', 'particle19_epoch15_cov_mat_sqrt.pt', 'particle19_epoch4_mom1.pt', 'particle9_epoch5_mom2.pt', 'particle4_epoch3_mom2.pt', 'particle12_epoch7_cov_mat_sqrt.pt', 'particle7_epoch7_mom2.pt', 'particle12_epoch20_cov_mat_sqrt.pt', 'particle5_epoch10_cov_mat_sqrt.pt', 'particle0_epoch8_mom1.pt', 'particle12_epoch10_mom1.pt', 'particle4_epoch18_cov_mat_sqrt.pt', 'particle2_epoch8_cov_mat_sqrt.pt', 'particle5_epoch16_cov_mat_sqrt.pt', 'particle0_epoch2_mom1.pt', 'particle7_epoch16_mom2.pt', 'particle0_epoch17_mom2.pt', 'particle7_epoch2_cov_mat_sqrt.pt', 'particle19_epoch5_cov_mat_sqrt.pt', 'particle8_epoch13_mom2.pt', 'particle10_epoch16_mom2.pt', 'particle4_epoch15_cov_mat_sqrt.pt', 'particle10_epoch19_mom2.pt', 'particle13_epoch19_cov_mat_sqrt.pt', 'particle1_epoch8_mom2.pt', 'particle5_epoch17_mom2.pt', 'particle13_epoch13_mom1.pt', 'particle8_epoch15_mom1.pt', 'particle15_epoch19_cov_mat_sqrt.pt', 'particle8_epoch20_cov_mat_sqrt.pt', 'particle13_epoch4_mom2.pt', 'particle12_epoch17_mom2.pt', 'particle0_epoch1_mom2.pt', 'particle10_epoch5_mom2.pt', 'particle9_epoch12_cov_mat_sqrt.pt', 'particle2_epoch15_cov_mat_sqrt.pt', 'particle8_epoch3_mom1.pt', 'particle19_epoch10_cov_mat_sqrt.pt', 'particle14_epoch17_cov_mat_sqrt.pt', 'particle13_epoch15_mom2.pt', 'particle4_epoch20_cov_mat_sqrt.pt', 'particle13_epoch9_mom2.pt', 'particle19_epoch16_mom2.pt', 'particle13_epoch7_cov_mat_sqrt.pt', 'particle2_epoch17_cov_mat_sqrt.pt', 'particle2_epoch2_cov_mat_sqrt.pt', 'particle4_epoch12_mom2.pt', 'particle0_epoch19_mom1.pt', 'particle4_epoch0_mom1.pt', 'particle2_epoch3_mom2.pt', 'particle5_epoch11_cov_mat_sqrt.pt', 'particle19_epoch9_mom2.pt', 'particle15_epoch12_mom1.pt', 'particle2_epoch8_mom1.pt', 'particle17_epoch4_cov_mat_sqrt.pt', 'particle13_epoch7_mom2.pt', 'particle17_epoch13_mom1.pt', 'particle6_epoch5_mom2.pt', 'particle0_epoch11_mom2.pt', 'particle1_epoch19_cov_mat_sqrt.pt', 'particle12_epoch0_mom2.pt', 'particle14_epoch9_mom1.pt', 'particle14_epoch8_cov_mat_sqrt.pt', 'particle9_epoch19_cov_mat_sqrt.pt', 'particle13_epoch10_mom1.pt', 'particle12_epoch8_mom2.pt', 'particle3_epoch7_mom2.pt', 'particle0_epoch4_mom1.pt', 'particle10_epoch4_cov_mat_sqrt.pt', 'particle5_epoch14_cov_mat_sqrt.pt', 'particle10_epoch18_mom1.pt', 'particle1_epoch3_mom1.pt', 'particle9_epoch10_mom1.pt', 'particle2_epoch3_mom1.pt', 'particle15_epoch4_mom2.pt', 'particle2_epoch12_cov_mat_sqrt.pt', 'particle7_epoch3_cov_mat_sqrt.pt', 'particle10_epoch11_mom2.pt', 'particle6_epoch7_mom1.pt', 'particle10_epoch4_mom1.pt', 'particle8_epoch8_mom1.pt', 'particle17_epoch1_mom2.pt', 'particle4_epoch19_cov_mat_sqrt.pt', 'particle9_epoch8_cov_mat_sqrt.pt', 'particle8_epoch8_cov_mat_sqrt.pt', 'particle12_epoch11_cov_mat_sqrt.pt', 'particle14_epoch1_cov_mat_sqrt.pt', 'particle5_epoch20_mom2.pt', 'particle2_epoch5_mom1.pt', 'particle12_epoch9_cov_mat_sqrt.pt', 'particle12_epoch14_mom1.pt', 'particle19_epoch3_cov_mat_sqrt.pt', 'particle0_epoch10_mom1.pt', 'particle11_epoch13_mom2.pt', 'particle14_epoch0_mom1.pt', 'particle8_epoch9_mom1.pt', 'particle7_epoch9_cov_mat_sqrt.pt', 'particle6_epoch15_mom1.pt', 'particle5_epoch1_cov_mat_sqrt.pt', 'particle18_epoch6_cov_mat_sqrt.pt', 'particle10_epoch14_mom2.pt', 'particle1_epoch18_mom2.pt', 'particle5_epoch4_cov_mat_sqrt.pt', 'particle17_epoch2_mom2.pt', 'particle9_epoch6_mom2.pt', 'particle8_epoch9_cov_mat_sqrt.pt', 'particle13_epoch5_cov_mat_sqrt.pt', 'particle17_epoch9_mom2.pt', 'particle5_epoch10_mom2.pt', 'particle13_epoch20_cov_mat_sqrt.pt', 'particle5_epoch20_mom1.pt', 'particle10_epoch16_mom1.pt', 'particle12_epoch14_cov_mat_sqrt.pt', 'particle10_epoch8_mom1.pt', 'particle6_epoch14_cov_mat_sqrt.pt', 'particle7_epoch11_mom2.pt', 'particle9_epoch15_cov_mat_sqrt.pt', 'particle5_epoch5_mom2.pt', 'particle10_epoch18_mom2.pt', 'particle14_epoch2_mom1.pt', 'particle10_epoch7_cov_mat_sqrt.pt', 'particle18_epoch12_mom1.pt', 'particle5_epoch3_mom1.pt', 'particle11_epoch1_mom2.pt', 'particle2_epoch19_cov_mat_sqrt.pt', 'particle8_epoch2_mom2.pt', 'particle10_epoch10_cov_mat_sqrt.pt', 'particle4_epoch1_cov_mat_sqrt.pt', 'particle7_epoch15_mom1.pt', 'particle4_epoch9_mom2.pt', 'particle9_epoch1_cov_mat_sqrt.pt', 'particle12_epoch19_cov_mat_sqrt.pt', 'particle12_epoch1_mom2.pt', 'particle3_epoch15_mom2.pt', 'particle14_epoch19_mom1.pt', 'particle15_epoch12_mom2.pt', 'particle11_epoch18_mom2.pt', 'particle6_epoch9_cov_mat_sqrt.pt', 'particle9_epoch0_mom1.pt', 'particle2_epoch9_mom1.pt', 'particle11_epoch19_mom2.pt', 'particle3_epoch17_mom1.pt', 'particle3_epoch2_mom2.pt', 'particle10_epoch9_cov_mat_sqrt.pt', 'particle15_epoch10_cov_mat_sqrt.pt', 'particle15_epoch3_mom2.pt', 'particle17_epoch4_mom1.pt', 'particle0_epoch17_mom1.pt', 'particle7_epoch20_mom1.pt', 'particle1_epoch6_mom2.pt', 'particle1_epoch16_mom1.pt', 'particle6_epoch15_mom2.pt', 'particle17_epoch9_mom1.pt', 'particle13_epoch9_mom1.pt', 'particle9_epoch11_cov_mat_sqrt.pt', 'particle16_epoch7_mom2.pt', 'particle13_epoch8_cov_mat_sqrt.pt', 'particle16_epoch6_mom1.pt', 'particle6_epoch12_mom1.pt', 'particle6_epoch15_cov_mat_sqrt.pt', 'particle18_epoch16_cov_mat_sqrt.pt', 'particle5_epoch0_cov_mat_sqrt.pt', 'particle15_epoch17_mom1.pt', 'particle8_epoch5_mom1.pt', 'particle13_epoch1_cov_mat_sqrt.pt', 'particle12_epoch18_cov_mat_sqrt.pt', 'particle14_epoch12_cov_mat_sqrt.pt', 'particle6_epoch18_mom1.pt', 'particle6_epoch4_mom2.pt', 'particle19_epoch5_mom1.pt', 'particle18_epoch0_cov_mat_sqrt.pt', 'particle18_epoch13_cov_mat_sqrt.pt', 'particle13_epoch2_cov_mat_sqrt.pt', 'particle10_epoch16_cov_mat_sqrt.pt', 'particle7_epoch13_mom2.pt', 'particle14_epoch15_mom2.pt', 'particle10_epoch17_cov_mat_sqrt.pt', 'particle3_epoch14_cov_mat_sqrt.pt', 'particle17_epoch13_mom2.pt', 'particle18_epoch16_mom1.pt', 'particle2_epoch14_cov_mat_sqrt.pt', 'particle9_epoch3_mom1.pt', 'particle8_epoch13_mom1.pt', 'particle17_epoch3_mom2.pt', 'particle17_epoch20_cov_mat_sqrt.pt', 'particle7_epoch9_mom1.pt', 'particle11_epoch4_cov_mat_sqrt.pt', 'particle4_epoch11_mom1.pt', 'particle11_epoch1_mom1.pt', 'particle8_epoch8_mom2.pt', 'particle15_epoch8_cov_mat_sqrt.pt', 'particle19_epoch19_mom1.pt', 'particle13_epoch20_mom1.pt', 'particle2_epoch18_mom2.pt', 'particle2_epoch4_mom1.pt', 'particle8_epoch16_cov_mat_sqrt.pt', 'particle3_epoch11_mom2.pt', 'particle0_epoch3_mom1.pt', 'particle12_epoch6_mom2.pt', 'particle17_epoch0_cov_mat_sqrt.pt', 'particle10_epoch6_mom1.pt', 'particle18_epoch9_cov_mat_sqrt.pt', 'particle11_epoch18_cov_mat_sqrt.pt', 'particle4_epoch0_mom2.pt', 'particle2_epoch7_cov_mat_sqrt.pt', 'particle9_epoch4_mom2.pt', 'particle1_epoch14_cov_mat_sqrt.pt', 'particle18_epoch5_mom1.pt', 'particle6_epoch3_mom1.pt', 'particle8_epoch18_mom2.pt', 'particle10_epoch3_mom2.pt', 'particle13_epoch13_mom2.pt', 'particle4_epoch0_cov_mat_sqrt.pt', 'particle14_epoch4_cov_mat_sqrt.pt', 'particle4_epoch9_cov_mat_sqrt.pt', 'particle18_epoch14_mom2.pt', 'particle9_epoch20_mom2.pt', 'particle1_epoch17_cov_mat_sqrt.pt', 'particle7_epoch0_mom2.pt', 'particle1_epoch2_cov_mat_sqrt.pt', 'particle4_epoch15_mom2.pt', 'particle14_epoch8_mom2.pt', 'particle19_epoch0_cov_mat_sqrt.pt', 'particle6_epoch10_mom1.pt', 'particle9_epoch16_cov_mat_sqrt.pt', 'particle15_epoch19_mom1.pt', 'particle11_epoch6_mom2.pt', 'particle0_epoch14_cov_mat_sqrt.pt', 'particle4_epoch16_cov_mat_sqrt.pt', 'particle16_epoch13_mom1.pt', 'particle16_epoch15_mom2.pt', 'particle10_epoch13_cov_mat_sqrt.pt', 'particle12_epoch9_mom1.pt', 'particle0_epoch11_cov_mat_sqrt.pt', 'particle12_epoch6_mom1.pt', 'particle0_epoch6_mom1.pt', 'particle13_epoch6_mom1.pt', 'particle1_epoch16_mom2.pt', 'particle18_epoch10_cov_mat_sqrt.pt', 'particle8_epoch2_mom1.pt', 'particle3_epoch17_mom2.pt', 'particle19_epoch7_mom1.pt', 'particle13_epoch12_mom2.pt', 'particle8_epoch12_mom1.pt', 'particle3_epoch16_cov_mat_sqrt.pt', 'particle11_epoch8_mom1.pt', 'particle3_epoch19_cov_mat_sqrt.pt', 'particle13_epoch3_mom1.pt', 'particle9_epoch14_cov_mat_sqrt.pt', 'particle13_epoch11_mom2.pt', 'particle16_epoch11_mom1.pt', 'particle7_epoch19_mom1.pt', 'particle16_epoch6_mom2.pt', 'particle14_epoch17_mom2.pt', 'particle13_epoch14_mom2.pt', 'particle7_epoch16_cov_mat_sqrt.pt', 'particle8_epoch7_mom1.pt', 'particle1_epoch7_cov_mat_sqrt.pt', 'particle6_epoch17_mom1.pt', 'particle10_epoch13_mom2.pt', 'particle7_epoch20_mom2.pt', 'particle9_epoch4_cov_mat_sqrt.pt', 'particle4_epoch7_mom1.pt', 'particle16_epoch5_mom2.pt', 'particle6_epoch8_cov_mat_sqrt.pt', 'particle6_epoch7_cov_mat_sqrt.pt', 'particle3_epoch10_mom1.pt', 'particle8_epoch4_mom1.pt', 'particle0_epoch14_mom1.pt', 'particle17_epoch12_mom2.pt', 'particle13_epoch0_mom1.pt', 'particle10_epoch3_cov_mat_sqrt.pt', 'particle14_epoch3_cov_mat_sqrt.pt', 'particle4_epoch5_mom2.pt', 'particle12_epoch14_mom2.pt', 'particle6_epoch1_mom1.pt', 'particle18_epoch1_cov_mat_sqrt.pt', 'particle12_epoch9_mom2.pt', 'particle1_epoch13_cov_mat_sqrt.pt', 'particle16_epoch7_mom1.pt', 'particle16_epoch11_cov_mat_sqrt.pt', 'particle6_epoch10_cov_mat_sqrt.pt', 'particle6_epoch8_mom1.pt', 'particle17_epoch2_cov_mat_sqrt.pt', 'particle15_epoch13_mom1.pt', 'particle0_epoch9_mom2.pt', 'particle14_epoch12_mom2.pt', 'particle8_epoch14_cov_mat_sqrt.pt', 'particle15_epoch4_mom1.pt', 'particle13_epoch10_mom2.pt', 'particle8_epoch0_mom1.pt', 'particle16_epoch2_cov_mat_sqrt.pt', 'particle6_epoch17_cov_mat_sqrt.pt', 'particle11_epoch12_cov_mat_sqrt.pt', 'particle15_epoch20_cov_mat_sqrt.pt', 'particle19_epoch10_mom2.pt', 'particle13_epoch8_mom1.pt', 'particle4_epoch6_mom1.pt', 'particle2_epoch20_cov_mat_sqrt.pt', 'particle4_epoch4_mom1.pt', 'particle8_epoch19_mom1.pt', 'particle7_epoch11_mom1.pt', 'particle14_epoch18_mom1.pt', 'particle13_epoch11_cov_mat_sqrt.pt', 'particle11_epoch16_mom1.pt', 'particle8_epoch2_cov_mat_sqrt.pt', 'particle8_epoch3_cov_mat_sqrt.pt', 'particle3_epoch4_cov_mat_sqrt.pt', 'particle13_epoch9_cov_mat_sqrt.pt', 'particle4_epoch11_mom2.pt', 'particle11_epoch0_mom1.pt', 'particle14_epoch8_mom1.pt', 'particle18_epoch6_mom1.pt', 'particle16_epoch1_mom2.pt', 'particle19_epoch11_mom2.pt', 'particle2_epoch7_mom2.pt', 'particle12_epoch13_cov_mat_sqrt.pt', 'particle9_epoch1_mom1.pt', 'particle15_epoch20_mom1.pt', 'particle10_epoch2_cov_mat_sqrt.pt', 'particle1_epoch20_cov_mat_sqrt.pt', 'particle15_epoch8_mom2.pt', 'particle15_epoch11_cov_mat_sqrt.pt', 'particle19_epoch14_cov_mat_sqrt.pt', 'particle14_epoch20_cov_mat_sqrt.pt', 'particle7_epoch6_cov_mat_sqrt.pt', 'particle0_epoch0_cov_mat_sqrt.pt', 'particle18_epoch11_cov_mat_sqrt.pt', 'particle0_epoch3_cov_mat_sqrt.pt', 'particle6_epoch4_mom1.pt', 'particle10_epoch17_mom1.pt', 'particle1_epoch10_cov_mat_sqrt.pt', 'particle6_epoch10_mom2.pt', 'particle2_epoch11_mom2.pt', 'particle8_epoch20_mom1.pt', 'particle9_epoch18_mom1.pt', 'particle18_epoch7_mom2.pt', 'particle4_epoch8_mom1.pt', 'particle13_epoch5_mom2.pt', 'particle16_epoch4_cov_mat_sqrt.pt', 'particle16_epoch18_mom2.pt', 'particle5_epoch7_mom2.pt', 'particle18_epoch2_cov_mat_sqrt.pt', 'particle3_epoch1_cov_mat_sqrt.pt', 'particle19_epoch19_mom2.pt', 'particle10_epoch12_mom1.pt', 'particle11_epoch3_mom1.pt', 'particle10_epoch0_cov_mat_sqrt.pt', 'particle18_epoch16_mom2.pt', 'particle10_epoch15_mom2.pt', 'particle2_epoch11_cov_mat_sqrt.pt', 'particle4_epoch14_cov_mat_sqrt.pt', 'particle9_epoch16_mom2.pt', 'particle13_epoch20_mom2.pt', 'particle15_epoch6_mom2.pt', 'particle12_epoch0_cov_mat_sqrt.pt', 'particle0_epoch9_mom1.pt', 'particle1_epoch10_mom2.pt', 'particle2_epoch3_cov_mat_sqrt.pt', 'particle1_epoch3_cov_mat_sqrt.pt', 'particle6_epoch5_cov_mat_sqrt.pt', 'particle7_epoch18_cov_mat_sqrt.pt', 'particle19_epoch16_cov_mat_sqrt.pt', 'particle1_epoch1_mom2.pt', 'particle11_epoch15_cov_mat_sqrt.pt', 'particle10_epoch1_cov_mat_sqrt.pt', 'particle7_epoch5_mom1.pt', 'particle11_epoch5_mom1.pt', 'particle1_epoch13_mom1.pt', 'particle14_epoch1_mom2.pt', 'particle4_epoch2_mom2.pt', 'particle7_epoch11_cov_mat_sqrt.pt', 'particle8_epoch16_mom2.pt', 'particle12_epoch5_cov_mat_sqrt.pt', 'particle1_epoch4_cov_mat_sqrt.pt', 'particle19_epoch11_mom1.pt', 'particle14_epoch20_mom1.pt', 'particle8_epoch0_mom2.pt', 'particle6_epoch8_mom2.pt', 'particle16_epoch18_cov_mat_sqrt.pt', 'particle12_epoch1_cov_mat_sqrt.pt', 'particle16_epoch13_cov_mat_sqrt.pt', 'particle4_epoch19_mom1.pt', 'particle7_epoch7_cov_mat_sqrt.pt', 'particle11_epoch14_mom2.pt', 'particle9_epoch20_mom1.pt', 'particle2_epoch7_mom1.pt', 'particle1_epoch5_mom1.pt', 'particle11_epoch5_mom2.pt', 'particle16_epoch7_cov_mat_sqrt.pt', 'particle17_epoch18_mom1.pt', 'particle15_epoch4_cov_mat_sqrt.pt', 'particle15_epoch5_mom1.pt', 'particle12_epoch16_cov_mat_sqrt.pt', 'particle9_epoch13_mom2.pt', 'particle0_epoch1_cov_mat_sqrt.pt', 'particle10_epoch11_cov_mat_sqrt.pt', 'particle4_epoch13_cov_mat_sqrt.pt', 'particle3_epoch8_cov_mat_sqrt.pt', 'particle9_epoch20_cov_mat_sqrt.pt', 'particle12_epoch7_mom1.pt', 'particle10_epoch17_mom2.pt', 'particle7_epoch8_cov_mat_sqrt.pt', 'particle0_epoch3_mom2.pt', 'particle9_epoch12_mom2.pt', 'particle8_epoch17_mom2.pt', 'particle8_epoch6_cov_mat_sqrt.pt', 'particle8_epoch20_mom2.pt', 'particle7_epoch13_mom1.pt', 'particle0_epoch17_cov_mat_sqrt.pt', 'particle14_epoch18_cov_mat_sqrt.pt', 'particle14_epoch19_mom2.pt', 'particle18_epoch3_mom2.pt', 'particle17_epoch8_cov_mat_sqrt.pt', 'particle9_epoch7_mom2.pt', 'particle0_epoch16_cov_mat_sqrt.pt', 'particle13_epoch0_mom2.pt', 'particle17_epoch5_cov_mat_sqrt.pt', 'particle3_epoch18_cov_mat_sqrt.pt', 'particle3_epoch4_mom2.pt', 'particle9_epoch2_mom2.pt', 'particle3_epoch0_cov_mat_sqrt.pt', 'particle19_epoch3_mom1.pt', 'particle3_epoch20_mom1.pt', 'particle14_epoch7_cov_mat_sqrt.pt', 'particle0_epoch7_cov_mat_sqrt.pt', 'particle17_epoch11_cov_mat_sqrt.pt', 'particle3_epoch9_mom2.pt', 'particle15_epoch9_mom1.pt', 'particle1_epoch0_cov_mat_sqrt.pt', 'particle1_epoch8_mom1.pt', 'particle0_epoch16_mom1.pt', 'particle0_epoch16_mom2.pt', 'particle16_epoch0_mom2.pt', 'particle11_epoch3_mom2.pt', 'particle5_epoch2_cov_mat_sqrt.pt', 'particle8_epoch11_mom1.pt', 'particle9_epoch16_mom1.pt', 'particle12_epoch11_mom1.pt', 'particle2_epoch1_mom1.pt', 'particle17_epoch17_cov_mat_sqrt.pt', 'particle2_epoch6_cov_mat_sqrt.pt', 'particle10_epoch1_mom2.pt', 'particle7_epoch18_mom2.pt', 'particle5_epoch20_cov_mat_sqrt.pt', 'particle17_epoch19_mom1.pt', 'particle18_epoch11_mom1.pt', 'particle15_epoch16_mom2.pt', 'particle13_epoch19_mom2.pt', 'particle5_epoch5_mom1.pt', 'particle7_epoch20_cov_mat_sqrt.pt', 'particle5_epoch15_cov_mat_sqrt.pt', 'particle16_epoch0_cov_mat_sqrt.pt', 'particle13_epoch1_mom2.pt', 'particle18_epoch8_cov_mat_sqrt.pt', 'particle9_epoch3_mom2.pt', 'particle13_epoch17_mom1.pt', 'particle15_epoch15_mom1.pt', 'particle6_epoch11_cov_mat_sqrt.pt', 'particle19_epoch4_mom2.pt', 'particle16_epoch8_mom1.pt', 'particle1_epoch18_mom1.pt', 'particle17_epoch4_mom2.pt', 'particle16_epoch10_mom1.pt', 'particle5_epoch14_mom2.pt', 'particle3_epoch12_mom1.pt', 'particle15_epoch10_mom1.pt', 'particle14_epoch10_mom1.pt', 'particle5_epoch7_mom1.pt', 'particle19_epoch6_cov_mat_sqrt.pt', 'particle3_epoch4_mom1.pt', 'particle17_epoch19_mom2.pt', 'particle6_epoch19_mom1.pt', 'particle17_epoch11_mom1.pt', 'particle19_epoch10_mom1.pt', 'particle1_epoch18_cov_mat_sqrt.pt', 'particle11_epoch1_cov_mat_sqrt.pt', 'particle17_epoch3_cov_mat_sqrt.pt', 'particle11_epoch6_cov_mat_sqrt.pt', 'particle19_epoch12_mom2.pt', 'particle5_epoch12_cov_mat_sqrt.pt', 'particle8_epoch15_cov_mat_sqrt.pt', 'particle14_epoch18_mom2.pt', 'particle10_epoch14_cov_mat_sqrt.pt', 'particle17_epoch14_mom2.pt', 'particle10_epoch9_mom2.pt', 'particle13_epoch6_mom2.pt', 'particle11_epoch13_mom1.pt', 'particle9_epoch19_mom1.pt', 'particle2_epoch17_mom2.pt', 'particle16_epoch15_cov_mat_sqrt.pt', 'particle5_epoch4_mom1.pt', 'particle8_epoch10_cov_mat_sqrt.pt', 'particle1_epoch19_mom2.pt', 'particle13_epoch17_mom2.pt', 'particle19_epoch14_mom2.pt', 'particle17_epoch15_mom1.pt', 'particle19_epoch9_mom1.pt', 'particle19_epoch13_mom2.pt']\n"
     ]
    }
   ],
   "source": [
    "print(os.listdir(RESULTS_DIR + OPTIMIZERS[0] + \"/swag_moments/\"))"
   ]
  },
  {
   "cell_type": "code",
   "execution_count": 157,
   "id": "e9a659de",
   "metadata": {},
   "outputs": [],
   "source": [
    "def plot_swag_covmats(optimizers, save_dir=\"../figures/swag_covmats/\"):\n",
    "    if not os.path.exists(save_dir):\n",
    "        os.makedirs(save_dir)\n",
    "    records = []\n",
    "\n",
    "    for opt in optimizers:\n",
    "        for epoch in range(1, 21):\n",
    "            for pid in range(1, 20):\n",
    "                path = f\"{RESULTS_DIR}{opt}/swag_moments/particle{pid}_epoch{epoch}_cov_mat_sqrt.pt\"\n",
    "                if not os.path.exists(path):\n",
    "                    print(f\"File {path} does not exist\")\n",
    "                    continue\n",
    "                cov_blocks = torch.load(path, weights_only=False)\n",
    "                total_trace = 0\n",
    "                total_det = 1\n",
    "                total_logdet = 0\n",
    "                total_maxeig = 0\n",
    "                total_mineig = None\n",
    "                eigvals_all = []\n",
    "\n",
    "                for block in cov_blocks:\n",
    "                    if block.shape[0] == 0:\n",
    "                        continue\n",
    "                    cov = block @ block.T\n",
    "                    eigvals = np.linalg.eigvalsh(cov.cpu().numpy())\n",
    "                    eigvals_all.extend(eigvals)\n",
    "                    total_trace += np.sum(eigvals)\n",
    "                    # To avoid numerical issues, sum log(eigvals) for logdet\n",
    "                    total_logdet += np.sum(np.log(np.clip(np.abs(eigvals), 1e-12, None)))\n",
    "                    total_det *= np.prod(np.clip(eigvals, 1e-12, None))\n",
    "                    total_maxeig = max(total_maxeig, np.max(eigvals))\n",
    "                    block_mineig = np.min(eigvals)\n",
    "                    if total_mineig is None or block_mineig < total_mineig:\n",
    "                        total_mineig = block_mineig\n",
    "\n",
    "                if eigvals_all:\n",
    "                    eigvals_all = np.array(eigvals_all)\n",
    "                    eigval_coef_var = np.std(eigvals_all) / np.mean(eigvals_all)\n",
    "                    log_eigval_coef_var = np.log(eigval_coef_var)\n",
    "                    log_maxeig = np.log(total_maxeig)\n",
    "                    log_mineig = np.log(total_mineig)\n",
    "                else:\n",
    "                    eigval_coef_var = np.nan\n",
    "                    total_mineig = np.nan\n",
    "                    total_logdet = np.nan\n",
    "                    total_maxeig = np.nan\n",
    "                    total_trace = np.nan\n",
    "                    total_det = np.nan\n",
    "\n",
    "                records.append({\n",
    "                    \"optimizer\": opt,\n",
    "                    \"epoch\": epoch,\n",
    "                    \"particle\": pid,\n",
    "                    \"trace\": total_trace,\n",
    "                    \"det\": total_det,\n",
    "                    \"logdet\": total_logdet,\n",
    "                    \"maxeig\": total_maxeig,\n",
    "                    \"mineig\": total_mineig,\n",
    "                    \"eigval_coef_var\": eigval_coef_var,\n",
    "                    \"log_eigval_coef_var\": log_eigval_coef_var,\n",
    "                    \"log_maxeig\": log_maxeig,\n",
    "                    \"log_mineig\": log_mineig\n",
    "                })\n",
    "\n",
    "    df = pd.DataFrame(records)\n",
    "\n",
    "    stats_to_plot = [\"trace\", \"det\", \"logdet\", \"maxeig\", \"mineig\", \"eigval_coef_var\"]\n",
    "    for stat in stats_to_plot:\n",
    "        plt.figure(figsize=(10, 6))\n",
    "        for opt in df[\"optimizer\"].unique():\n",
    "            grouped = df[df[\"optimizer\"] == opt].groupby(\"epoch\")[stat]\n",
    "            mean = grouped.mean()\n",
    "            std = grouped.std()\n",
    "            plt.plot(mean.index, mean.values, label=f\"{opt}\")\n",
    "            plt.fill_between(mean.index, mean - std, mean + std, alpha=0.2)\n",
    "        plt.xlabel(\"Epoch\")\n",
    "        plt.ylabel(stat.capitalize())\n",
    "        if \"log\" in stat:\n",
    "            plt.yscale(\"log\")\n",
    "        plt.title(f\"SWAG Covariance {stat.capitalize()} Over Epochs\")\n",
    "        plt.legend()\n",
    "        plt.tight_layout()\n",
    "        plt.savefig(f\"{save_dir}/swag_covmat_{stat}_{'_'.join(optimizers)}.png\")\n",
    "        plt.close()\n",
    "        \n",
    "plot_swag_covmats(optimizers=[\"adam\", \"adamw\", \"muon\"])\n",
    "#plot_swag_covmats(optimizers=[\"adamw\", \"10p\", \"spectralnorm\"])\n",
    "#plot_swag_covmats(optimizers=[\"muon\", \"muon10p\", \"muonspectralnorm\"])"
   ]
  },
  {
   "cell_type": "code",
   "execution_count": null,
   "id": "d1d92377",
   "metadata": {},
   "outputs": [],
   "source": []
  }
 ],
 "metadata": {
  "kernelspec": {
   "display_name": "tda-opt",
   "language": "python",
   "name": "python3"
  },
  "language_info": {
   "codemirror_mode": {
    "name": "ipython",
    "version": 3
   },
   "file_extension": ".py",
   "mimetype": "text/x-python",
   "name": "python",
   "nbconvert_exporter": "python",
   "pygments_lexer": "ipython3",
   "version": "3.11.11"
  }
 },
 "nbformat": 4,
 "nbformat_minor": 5
}
